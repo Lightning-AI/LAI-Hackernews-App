{
 "cells": [
  {
   "cell_type": "code",
   "execution_count": 461,
   "id": "1c9d3760-7be3-4825-8629-e46ac2e15171",
   "metadata": {},
   "outputs": [],
   "source": [
    "import pandas as pd\n",
    "import re\n",
    "import json\n",
    "import random"
   ]
  },
  {
   "cell_type": "code",
   "execution_count": 462,
   "id": "991dc440-7d1d-4ee2-96cd-5a23d88c1658",
   "metadata": {},
   "outputs": [],
   "source": [
    "spaces = [\n",
    "    \"\\u200b\",\n",
    "    \"\\u200e\",\n",
    "    \"\\u202a\",\n",
    "    \"\\u202c\",\n",
    "    \"\\ufeff\",\n",
    "    \"\\uf0d8\",\n",
    "    \"\\u2061\",\n",
    "    \"\\x10\",\n",
    "    \"\\x7f\",\n",
    "    \"\\x9d\",\n",
    "    \"\\xad\",\n",
    "    \"\\xa0\",\n",
    "    \"\\u202f\",\n",
    "]\n",
    "\n",
    "\n",
    "def remove_space(text):\n",
    "    for space in spaces:\n",
    "        text = text.replace(space, \" \")\n",
    "    text = text.strip()\n",
    "    text = re.sub(r\"\\s+\", \" \", text)\n",
    "    return text.strip()\n",
    "\n",
    "\n",
    "def tokenize(text, word2int):\n",
    "    res = []\n",
    "    for word in text.split():\n",
    "        if word in word2int:\n",
    "            res.append(word2int[word])\n",
    "    return res"
   ]
  },
  {
   "cell_type": "code",
   "execution_count": 463,
   "id": "fdc6e0da-d73a-4c34-bc73-eeb4bf79a0ce",
   "metadata": {},
   "outputs": [],
   "source": [
    "with open('data/new_stories.json', 'r') as fp:\n",
    "    stories = json.load(fp)"
   ]
  },
  {
   "cell_type": "code",
   "execution_count": 464,
   "id": "99260997-632a-4d4c-bf99-7345ddabe36b",
   "metadata": {},
   "outputs": [],
   "source": [
    "df = pd.DataFrame(stories)"
   ]
  },
  {
   "cell_type": "code",
   "execution_count": 465,
   "id": "c65780e4-cdf6-4e2d-af3b-4c8e0396d581",
   "metadata": {},
   "outputs": [],
   "source": [
    "df['item_id'] = df['item_id'].astype(str)"
   ]
  },
  {
   "cell_type": "code",
   "execution_count": 467,
   "id": "8a70d01b-ecaa-41a0-a54d-be46eeaa49b3",
   "metadata": {},
   "outputs": [],
   "source": [
    "df = df[['item_id', 'title', 'url']]"
   ]
  },
  {
   "cell_type": "markdown",
   "id": "6ca71717-a109-4926-98d6-7e451f404233",
   "metadata": {},
   "source": [
    "### tokenization"
   ]
  },
  {
   "cell_type": "code",
   "execution_count": 468,
   "id": "a8af7abc-e9ee-4c5c-aec4-cb4fae0b27fa",
   "metadata": {},
   "outputs": [],
   "source": [
    "df['orig_title'] = df['title'].copy()\n",
    "\n",
    "df[\"title\"] = (\n",
    "    df[\"title\"]\n",
    "    .str.lower()\n",
    "    .apply(lambda x: re.sub(r\"\"\"(?<=\\w)([!?,.-:/\"/'])\"\"\", r\" \\1 \", x))\n",
    "    .apply(remove_space)\n",
    "    .str.strip()\n",
    ")"
   ]
  },
  {
   "cell_type": "code",
   "execution_count": 469,
   "id": "bd71a7b2-ca10-4a60-975e-1382129a891d",
   "metadata": {},
   "outputs": [],
   "source": [
    "with open(\"data/word2int.json\", 'r') as fp:\n",
    "    word2int = json.load(fp)"
   ]
  },
  {
   "cell_type": "code",
   "execution_count": 470,
   "id": "b0f2f516-bca8-437a-98f9-9e8c6120453d",
   "metadata": {},
   "outputs": [],
   "source": [
    "df[\"title\"] = df[\"title\"].apply(\n",
    "    lambda x: tokenize(x, word2int)\n",
    ")"
   ]
  },
  {
   "cell_type": "code",
   "execution_count": 471,
   "id": "0b8843c9-fb52-44d8-84a9-ed438c41ea2a",
   "metadata": {},
   "outputs": [],
   "source": [
    "df = df.loc[df['title'].apply(len) > 0]"
   ]
  },
  {
   "cell_type": "markdown",
   "id": "986bb43b-250c-4db9-8640-807a4bbf6e8a",
   "metadata": {},
   "source": [
    "### topic classification"
   ]
  },
  {
   "cell_type": "code",
   "execution_count": null,
   "id": "562985e2-e9cb-4173-b98f-0fa409a84f8e",
   "metadata": {},
   "outputs": [],
   "source": []
  },
  {
   "cell_type": "code",
   "execution_count": 472,
   "id": "7400d38f-b946-4893-891c-25bd42284240",
   "metadata": {},
   "outputs": [],
   "source": [
    "df['topic'] = 'Sports'\n",
    "\n",
    "CLASSES = [\n",
    "    'Education', 'Business', 'Sports',\n",
    "    'Technology',\n",
    "    'News and Politics',\n",
    "    'Lifestyle',\n",
    "    'Culture and Arts',\n",
    "    'Entertainment',\n",
    "]\n",
    "\n",
    "df['topic'] = df['topic'].apply(lambda x: random.sample(CLASSES, k=1)[0])"
   ]
  },
  {
   "cell_type": "code",
   "execution_count": 473,
   "id": "754af190-416c-4c1f-b269-519dcc886355",
   "metadata": {},
   "outputs": [],
   "source": [
    "topic_data = df[['item_id', 'orig_title', 'topic', 'url']].set_index('item_id').T.to_dict()\n",
    "\n",
    "with open('data/topic_data_pred.json', 'w') as fp:\n",
    "    json.dump(topic_data, fp)"
   ]
  },
  {
   "cell_type": "code",
   "execution_count": null,
   "id": "4b581fe0-3c5d-4444-a7fd-7a2f759817ce",
   "metadata": {},
   "outputs": [],
   "source": []
  },
  {
   "cell_type": "code",
   "execution_count": null,
   "id": "4720a609-cc1c-40e3-8d84-58e7ef8586cc",
   "metadata": {},
   "outputs": [],
   "source": []
  },
  {
   "cell_type": "code",
   "execution_count": null,
   "id": "2f758904-0c06-4b37-a526-1983c4fcaaa1",
   "metadata": {},
   "outputs": [],
   "source": []
  },
  {
   "cell_type": "code",
   "execution_count": null,
   "id": "3c289d5f-6d9d-4d2e-97b8-e4f4016a27b2",
   "metadata": {},
   "outputs": [],
   "source": []
  },
  {
   "cell_type": "code",
   "execution_count": null,
   "id": "b7442877-a398-45d8-a13b-791eb61969c6",
   "metadata": {},
   "outputs": [],
   "source": []
  },
  {
   "cell_type": "code",
   "execution_count": null,
   "id": "3c86660d-c418-42d1-b4f1-62423d5b93fd",
   "metadata": {},
   "outputs": [],
   "source": []
  },
  {
   "cell_type": "markdown",
   "id": "99c9e717-bd5b-4160-95a9-e675db62e88b",
   "metadata": {},
   "source": [
    "### generate embeddings"
   ]
  },
  {
   "cell_type": "code",
   "execution_count": 431,
   "id": "ed1bd564-eebb-4d7d-a62c-208bcbf14605",
   "metadata": {},
   "outputs": [],
   "source": [
    "from config import TANRConfig\n",
    "from models.module import TANRModule\n",
    "import torch"
   ]
  },
  {
   "cell_type": "code",
   "execution_count": 432,
   "id": "1fa01d52-95d5-4275-aa40-b7567e0413bc",
   "metadata": {},
   "outputs": [],
   "source": [
    "config = TANRConfig()"
   ]
  },
  {
   "cell_type": "code",
   "execution_count": 433,
   "id": "05683441-aefc-4841-b36d-a392c7408468",
   "metadata": {},
   "outputs": [],
   "source": [
    "candidate_news = df['title'].tolist()\n",
    "candidate_news = torch.tensor([\n",
    "    (news + [0] * config.num_words_title)[:config.num_words_title]\n",
    "    for news in candidate_news\n",
    "])\n",
    "candidate_news = {'title': candidate_news}"
   ]
  },
  {
   "cell_type": "code",
   "execution_count": 434,
   "id": "d02b23fc-15a1-427e-884f-5aead0d92255",
   "metadata": {},
   "outputs": [
    {
     "name": "stderr",
     "output_type": "stream",
     "text": [
      "/Users/goku/miniconda3/envs/lit_mlops/lib/python3.9/site-packages/torchmetrics/utilities/prints.py:36: UserWarning: Metric `AUROC` will save all targets and predictions in buffer. For large datasets this may lead to large memory footprint.\n",
      "  warnings.warn(*args, **kwargs)\n"
     ]
    }
   ],
   "source": [
    "embed_model = TANRModule(config)"
   ]
  },
  {
   "cell_type": "code",
   "execution_count": 435,
   "id": "b02a8d92-e2b4-4bb6-8c00-72ef901cb000",
   "metadata": {},
   "outputs": [
    {
     "data": {
      "text/plain": [
       "{'title': tensor([[  37, 2429,  111,  ...,    0,    0,    0],\n",
       "         [ 598,  138, 6108,  ...,    0,    0,    0],\n",
       "         [  37, 9701,   14,  ...,    0,    0,    0],\n",
       "         ...,\n",
       "         [8713,    0,    0,  ...,    0,    0,    0],\n",
       "         [ 105,   34,   35,  ..., 1994,  113,    0],\n",
       "         [  15,  106,   87,  ...,    0,    0,    0]])}"
      ]
     },
     "execution_count": 435,
     "metadata": {},
     "output_type": "execute_result"
    }
   ],
   "source": [
    "candidate_news"
   ]
  },
  {
   "cell_type": "code",
   "execution_count": 436,
   "id": "c74cde67-856a-4dce-b93c-10bf3704f9a9",
   "metadata": {},
   "outputs": [],
   "source": [
    "news_vector = embed_model.get_news_vector(candidate_news)"
   ]
  },
  {
   "cell_type": "code",
   "execution_count": 437,
   "id": "b94e0d06-16ab-4cc4-b1e5-eb5ff9ed0ed0",
   "metadata": {},
   "outputs": [],
   "source": [
    "# news_vector = {df['item_id'].iloc[i]: vec for i, vec in enumerate(news_vector)}"
   ]
  },
  {
   "cell_type": "markdown",
   "id": "821c9970-bf19-4337-a7f6-28fae382a293",
   "metadata": {},
   "source": [
    "### User data"
   ]
  },
  {
   "cell_type": "code",
   "execution_count": 438,
   "id": "fdf71d95-400d-4f3f-bf14-13a953513f6a",
   "metadata": {},
   "outputs": [],
   "source": [
    "users = ['AlexClay', 'HowardStark', 'plibither8', 'JimMorrison723', 'NovaDev']"
   ]
  },
  {
   "cell_type": "code",
   "execution_count": 439,
   "id": "8e478ff3-9bc3-4cc4-b211-4952958d0b10",
   "metadata": {},
   "outputs": [
    {
     "data": {
      "text/plain": [
       "plibither8        327\n",
       "HowardStark        45\n",
       "JimMorrison723     43\n",
       "AlexClay           42\n",
       "NovaDev            38\n",
       "Name: user_favorite, dtype: int64"
      ]
     },
     "execution_count": 439,
     "metadata": {},
     "output_type": "execute_result"
    }
   ],
   "source": [
    "fav_data = pd.read_csv('data/filtered_train.csv')\n",
    "fav_data = fav_data.loc[fav_data['user_favorite'].isin(users)]\n",
    "fav_data['user_favorite'].value_counts()"
   ]
  },
  {
   "cell_type": "code",
   "execution_count": 440,
   "id": "b2cc1887-576e-4e59-9098-96dad58eaa3c",
   "metadata": {},
   "outputs": [],
   "source": [
    "fav_data = fav_data[['user_favorite', 'title']]"
   ]
  },
  {
   "cell_type": "code",
   "execution_count": 441,
   "id": "6c87c970-3392-47dd-8fc8-cf10cae945cc",
   "metadata": {},
   "outputs": [],
   "source": [
    "fav_data[\"title\"] = (\n",
    "    fav_data[\"title\"]\n",
    "    .str.lower()\n",
    "    .apply(lambda x: re.sub(r\"\"\"(?<=\\w)([!?,.-:/\"/'])\"\"\", r\" \\1 \", x))\n",
    "    .apply(remove_space)\n",
    "    .str.strip()\n",
    ")\n",
    "\n",
    "fav_data[\"title\"] = fav_data[\"title\"].apply(\n",
    "    lambda x: tokenize(x, word2int)\n",
    ")\n",
    "\n",
    "fav_data = fav_data.loc[fav_data['title'].apply(len) > 0]"
   ]
  },
  {
   "cell_type": "code",
   "execution_count": 442,
   "id": "3cb32abc-34df-427f-aa1b-0549bfc37ed0",
   "metadata": {},
   "outputs": [],
   "source": [
    "fav_data = fav_data.groupby('user_favorite')['title'].apply(list).reset_index()"
   ]
  },
  {
   "cell_type": "code",
   "execution_count": 443,
   "id": "25aaa073-ec1b-431d-8ee0-52dcbf27bf20",
   "metadata": {},
   "outputs": [],
   "source": [
    "fav_data['title'] = fav_data['title'].apply(lambda x: [(news + [0] * config.num_words_title)[:config.num_words_title] for news in x])\n",
    "fav_data['title'] = fav_data['title'].apply(lambda x: x[-config.num_words_abstract:])"
   ]
  },
  {
   "cell_type": "code",
   "execution_count": 444,
   "id": "4767fc2a-9417-4641-ab58-502861dec4aa",
   "metadata": {},
   "outputs": [],
   "source": [
    "fav_data['title'] = fav_data['title'].apply(\n",
    "    lambda x: [[0] * config.num_words_title] * (config.num_clicked_news_a_user - len(x)) + x\n",
    ")"
   ]
  },
  {
   "cell_type": "code",
   "execution_count": 445,
   "id": "645e3145-ec6b-4e55-828a-ff989978430a",
   "metadata": {},
   "outputs": [],
   "source": [
    "user_vector = fav_data.set_index('user_favorite')['title'].to_dict()\n",
    "\n",
    "for k, v in user_vector.items():\n",
    "    user_vector[k] = {'title': torch.tensor(v)}"
   ]
  },
  {
   "cell_type": "code",
   "execution_count": 446,
   "id": "07de21a7-1659-437d-8c39-b29da5f12447",
   "metadata": {},
   "outputs": [],
   "source": [
    "for k, v in user_vector.items():\n",
    "    user_vector[k] = embed_model.get_news_vector(v)"
   ]
  },
  {
   "cell_type": "code",
   "execution_count": 447,
   "id": "0e9de570-350c-4482-a190-e8d09c965d78",
   "metadata": {},
   "outputs": [],
   "source": [
    "browsed_news = torch.stack(list(user_vector.values()))"
   ]
  },
  {
   "cell_type": "code",
   "execution_count": 448,
   "id": "73c11c2a-3203-47c9-bad7-a53138ea6216",
   "metadata": {},
   "outputs": [],
   "source": [
    "user_vector = embed_model.get_user_vector(browsed_news).tolist()"
   ]
  },
  {
   "cell_type": "code",
   "execution_count": 449,
   "id": "c7b45273-f40f-488f-8554-5c433b4f5254",
   "metadata": {},
   "outputs": [],
   "source": [
    "user_vector = {fav_data['user_favorite'].iloc[i]: torch.tensor(vec) for i, vec in enumerate(user_vector)}"
   ]
  },
  {
   "cell_type": "code",
   "execution_count": null,
   "id": "fbde2db9-5bc1-4bd1-be94-2353a9d76319",
   "metadata": {},
   "outputs": [],
   "source": []
  },
  {
   "cell_type": "code",
   "execution_count": 450,
   "id": "20664931-87f1-4e36-ab1f-622f086c4f9c",
   "metadata": {},
   "outputs": [],
   "source": [
    "preds = {}\n",
    "\n",
    "for user, vec in user_vector.items():\n",
    "    preds[user] = embed_model.get_prediction(news_vector, vec).sigmoid().tolist()"
   ]
  },
  {
   "cell_type": "code",
   "execution_count": 451,
   "id": "9418e989-be65-478e-bc66-3fd43447f4e1",
   "metadata": {},
   "outputs": [],
   "source": [
    "for k, v in preds.items():\n",
    "    preds[k] = [{df.iloc[i]['item_id']: prob} for i, prob in enumerate(v)]\n",
    "    preds[k] = sorted(preds[k], key=lambda x: -list(x.values())[0])[:10]"
   ]
  },
  {
   "cell_type": "code",
   "execution_count": 452,
   "id": "39257845-60ac-4923-aedc-155a60fa1014",
   "metadata": {},
   "outputs": [],
   "source": [
    "with open('data/new_stories_user_pred.json', 'w') as fp:\n",
    "    json.dump(preds, fp)"
   ]
  },
  {
   "cell_type": "code",
   "execution_count": null,
   "id": "09c6f4c0-85c9-45ac-94c4-b8806735a713",
   "metadata": {},
   "outputs": [],
   "source": []
  },
  {
   "cell_type": "code",
   "execution_count": null,
   "id": "fff635c2-ddd8-42c7-bf33-56927149e118",
   "metadata": {},
   "outputs": [],
   "source": []
  },
  {
   "cell_type": "code",
   "execution_count": null,
   "id": "41031725-5fef-4535-b478-cba4318734d7",
   "metadata": {},
   "outputs": [],
   "source": []
  },
  {
   "cell_type": "code",
   "execution_count": null,
   "id": "b0059beb-cd48-4911-a6b5-c0d3bfa2fe69",
   "metadata": {},
   "outputs": [],
   "source": []
  },
  {
   "cell_type": "code",
   "execution_count": null,
   "id": "7292df51-2d11-4e55-b98e-25cfde724d29",
   "metadata": {},
   "outputs": [],
   "source": []
  },
  {
   "cell_type": "code",
   "execution_count": null,
   "id": "83ba6625-4d1b-4da2-a633-cc19cf08b625",
   "metadata": {},
   "outputs": [],
   "source": []
  }
 ],
 "metadata": {
  "kernelspec": {
   "display_name": "Python 3 (ipykernel)",
   "language": "python",
   "name": "python3"
  },
  "language_info": {
   "codemirror_mode": {
    "name": "ipython",
    "version": 3
   },
   "file_extension": ".py",
   "mimetype": "text/x-python",
   "name": "python",
   "nbconvert_exporter": "python",
   "pygments_lexer": "ipython3",
   "version": "3.9.12"
  }
 },
 "nbformat": 4,
 "nbformat_minor": 5
}
