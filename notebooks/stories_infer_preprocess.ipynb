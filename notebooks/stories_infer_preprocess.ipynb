{
 "cells": [
  {
   "cell_type": "code",
   "execution_count": 1,
   "id": "1c9d3760-7be3-4825-8629-e46ac2e15171",
   "metadata": {},
   "outputs": [],
   "source": [
    "import pandas as pd\n",
    "import re\n",
    "import json\n",
    "import random\n",
    "import pickle\n",
    "from tqdm.auto import tqdm"
   ]
  },
  {
   "cell_type": "code",
   "execution_count": 2,
   "id": "991dc440-7d1d-4ee2-96cd-5a23d88c1658",
   "metadata": {},
   "outputs": [],
   "source": [
    "spaces = [\n",
    "    \"\\u200b\",\n",
    "    \"\\u200e\",\n",
    "    \"\\u202a\",\n",
    "    \"\\u202c\",\n",
    "    \"\\ufeff\",\n",
    "    \"\\uf0d8\",\n",
    "    \"\\u2061\",\n",
    "    \"\\x10\",\n",
    "    \"\\x7f\",\n",
    "    \"\\x9d\",\n",
    "    \"\\xad\",\n",
    "    \"\\xa0\",\n",
    "    \"\\u202f\",\n",
    "]\n",
    "\n",
    "\n",
    "def remove_space(text):\n",
    "    for space in spaces:\n",
    "        text = text.replace(space, \" \")\n",
    "    text = text.strip()\n",
    "    text = re.sub(r\"\\s+\", \" \", text)\n",
    "    return text.strip()\n",
    "\n",
    "\n",
    "def tokenize(text, word2int):\n",
    "    res = []\n",
    "    for word in text.split():\n",
    "        if word in word2int:\n",
    "            res.append(word2int[word])\n",
    "    return res"
   ]
  },
  {
   "cell_type": "code",
   "execution_count": 3,
   "id": "fdc6e0da-d73a-4c34-bc73-eeb4bf79a0ce",
   "metadata": {},
   "outputs": [],
   "source": [
    "with open('data/new_stories.json', 'r') as fp:\n",
    "    stories = json.load(fp)"
   ]
  },
  {
   "cell_type": "code",
   "execution_count": 4,
   "id": "99260997-632a-4d4c-bf99-7345ddabe36b",
   "metadata": {},
   "outputs": [],
   "source": [
    "df = pd.DataFrame(stories)"
   ]
  },
  {
   "cell_type": "code",
   "execution_count": 5,
   "id": "c65780e4-cdf6-4e2d-af3b-4c8e0396d581",
   "metadata": {},
   "outputs": [],
   "source": [
    "df['item_id'] = df['item_id'].astype(str)"
   ]
  },
  {
   "cell_type": "code",
   "execution_count": 6,
   "id": "8a70d01b-ecaa-41a0-a54d-be46eeaa49b3",
   "metadata": {},
   "outputs": [],
   "source": [
    "df = df[['item_id', 'title']]"
   ]
  },
  {
   "cell_type": "markdown",
   "id": "6ca71717-a109-4926-98d6-7e451f404233",
   "metadata": {},
   "source": [
    "### tokenization"
   ]
  },
  {
   "cell_type": "code",
   "execution_count": 7,
   "id": "a8af7abc-e9ee-4c5c-aec4-cb4fae0b27fa",
   "metadata": {},
   "outputs": [],
   "source": [
    "# df['orig_title'] = df['title'].copy()\n",
    "\n",
    "df[\"title\"] = (\n",
    "    df[\"title\"]\n",
    "    .str.lower()\n",
    "    .apply(lambda x: re.sub(r\"\"\"(?<=\\w)([!?,.-:/\"/'])\"\"\", r\" \\1 \", x))\n",
    "    .apply(remove_space)\n",
    "    .str.strip()\n",
    ")"
   ]
  },
  {
   "cell_type": "code",
   "execution_count": 8,
   "id": "bd71a7b2-ca10-4a60-975e-1382129a891d",
   "metadata": {},
   "outputs": [],
   "source": [
    "with open(\"data/word2int.json\", 'r') as fp:\n",
    "    word2int = json.load(fp)"
   ]
  },
  {
   "cell_type": "code",
   "execution_count": 9,
   "id": "b0f2f516-bca8-437a-98f9-9e8c6120453d",
   "metadata": {},
   "outputs": [],
   "source": [
    "df[\"title\"] = df[\"title\"].apply(\n",
    "    lambda x: tokenize(x, word2int)\n",
    ")"
   ]
  },
  {
   "cell_type": "code",
   "execution_count": 10,
   "id": "0b8843c9-fb52-44d8-84a9-ed438c41ea2a",
   "metadata": {},
   "outputs": [],
   "source": [
    "df = df.loc[df['title'].apply(len) > 0]"
   ]
  },
  {
   "cell_type": "markdown",
   "id": "986bb43b-250c-4db9-8640-807a4bbf6e8a",
   "metadata": {},
   "source": [
    "### topic classification"
   ]
  },
  {
   "cell_type": "code",
   "execution_count": null,
   "id": "562985e2-e9cb-4173-b98f-0fa409a84f8e",
   "metadata": {},
   "outputs": [],
   "source": []
  },
  {
   "cell_type": "code",
   "execution_count": 11,
   "id": "7400d38f-b946-4893-891c-25bd42284240",
   "metadata": {},
   "outputs": [],
   "source": [
    "df['topic'] = 'Sports'\n",
    "\n",
    "CLASSES = [\n",
    "    'Education', 'Business', 'Sports',\n",
    "    'Technology',\n",
    "    'News and Politics',\n",
    "    'Lifestyle',\n",
    "    'Culture and Arts',\n",
    "    'Entertainment',\n",
    "]\n",
    "\n",
    "df['topic'] = df['topic'].apply(lambda x: random.sample(CLASSES, k=1)[0])"
   ]
  },
  {
   "cell_type": "code",
   "execution_count": 12,
   "id": "f5eec0e3-29fd-4567-8ca6-d0205f0b84f8",
   "metadata": {},
   "outputs": [],
   "source": [
    "topic_data = df[['item_id', 'topic']]"
   ]
  },
  {
   "cell_type": "code",
   "execution_count": 13,
   "id": "eb86c7e9-b08e-48d0-9d4f-d8867fa4eb9b",
   "metadata": {},
   "outputs": [],
   "source": [
    "topic_data.to_csv('data/topic_data_pred.tsv', sep=\"\\t\", header=True, index=False)\n",
    "\n",
    "with open('data/topic_data_pred.pkl', 'wb') as fp:\n",
    "    pickle.dump(topic_data, fp)"
   ]
  },
  {
   "cell_type": "code",
   "execution_count": null,
   "id": "4720a609-cc1c-40e3-8d84-58e7ef8586cc",
   "metadata": {},
   "outputs": [],
   "source": []
  },
  {
   "cell_type": "code",
   "execution_count": null,
   "id": "2f758904-0c06-4b37-a526-1983c4fcaaa1",
   "metadata": {},
   "outputs": [],
   "source": []
  },
  {
   "cell_type": "code",
   "execution_count": null,
   "id": "3c289d5f-6d9d-4d2e-97b8-e4f4016a27b2",
   "metadata": {},
   "outputs": [],
   "source": []
  },
  {
   "cell_type": "code",
   "execution_count": null,
   "id": "b7442877-a398-45d8-a13b-791eb61969c6",
   "metadata": {},
   "outputs": [],
   "source": []
  },
  {
   "cell_type": "code",
   "execution_count": null,
   "id": "3c86660d-c418-42d1-b4f1-62423d5b93fd",
   "metadata": {},
   "outputs": [],
   "source": []
  },
  {
   "cell_type": "markdown",
   "id": "99c9e717-bd5b-4160-95a9-e675db62e88b",
   "metadata": {},
   "source": [
    "### generate embeddings"
   ]
  },
  {
   "cell_type": "code",
   "execution_count": 14,
   "id": "ed1bd564-eebb-4d7d-a62c-208bcbf14605",
   "metadata": {},
   "outputs": [],
   "source": [
    "from config import TANRConfig\n",
    "from models.module import TANRModule\n",
    "import torch\n",
    "import numpy as np"
   ]
  },
  {
   "cell_type": "code",
   "execution_count": 15,
   "id": "1fa01d52-95d5-4275-aa40-b7567e0413bc",
   "metadata": {},
   "outputs": [],
   "source": [
    "config = TANRConfig()\n",
    "pretrained_embeddings = np.load('data/final_embeddings.npy')\n",
    "pretrained_embeddings = torch.from_numpy(pretrained_embeddings).float()"
   ]
  },
  {
   "cell_type": "code",
   "execution_count": 16,
   "id": "05683441-aefc-4841-b36d-a392c7408468",
   "metadata": {},
   "outputs": [],
   "source": [
    "candidate_news = df['title'].tolist()\n",
    "candidate_news = torch.tensor([\n",
    "    (news + [0] * config.num_words_title)[:config.num_words_title]\n",
    "    for news in candidate_news\n",
    "])\n",
    "candidate_news = {'title': candidate_news}"
   ]
  },
  {
   "cell_type": "code",
   "execution_count": 17,
   "id": "d02b23fc-15a1-427e-884f-5aead0d92255",
   "metadata": {},
   "outputs": [
    {
     "name": "stderr",
     "output_type": "stream",
     "text": [
      "/Users/goku/miniconda3/envs/lit_mlops/lib/python3.9/site-packages/torchmetrics/utilities/prints.py:36: UserWarning: Metric `AUROC` will save all targets and predictions in buffer. For large datasets this may lead to large memory footprint.\n",
      "  warnings.warn(*args, **kwargs)\n"
     ]
    }
   ],
   "source": [
    "embed_model = TANRModule(config, pretrained_word_embedding=pretrained_embeddings)"
   ]
  },
  {
   "cell_type": "code",
   "execution_count": 18,
   "id": "c74cde67-856a-4dce-b93c-10bf3704f9a9",
   "metadata": {},
   "outputs": [],
   "source": [
    "news_vector = embed_model.get_news_vector(candidate_news)"
   ]
  },
  {
   "cell_type": "code",
   "execution_count": 19,
   "id": "b94e0d06-16ab-4cc4-b1e5-eb5ff9ed0ed0",
   "metadata": {},
   "outputs": [],
   "source": [
    "# news_vector = {df['item_id'].iloc[i]: vec for i, vec in enumerate(news_vector)}"
   ]
  },
  {
   "cell_type": "markdown",
   "id": "821c9970-bf19-4337-a7f6-28fae382a293",
   "metadata": {},
   "source": [
    "### User data"
   ]
  },
  {
   "cell_type": "code",
   "execution_count": 20,
   "id": "fdf71d95-400d-4f3f-bf14-13a953513f6a",
   "metadata": {},
   "outputs": [],
   "source": [
    "users = ['AlexClay', 'HowardStark', 'plibither8', 'JimMorrison723', 'NovaDev']"
   ]
  },
  {
   "cell_type": "code",
   "execution_count": 21,
   "id": "8e478ff3-9bc3-4cc4-b211-4952958d0b10",
   "metadata": {},
   "outputs": [
    {
     "data": {
      "text/plain": [
       "plibither8        327\n",
       "HowardStark        45\n",
       "JimMorrison723     43\n",
       "AlexClay           42\n",
       "NovaDev            38\n",
       "Name: user_favorite, dtype: int64"
      ]
     },
     "execution_count": 21,
     "metadata": {},
     "output_type": "execute_result"
    }
   ],
   "source": [
    "fav_data = pd.read_csv('data/filtered_train.csv')\n",
    "fav_data = fav_data.loc[fav_data['user_favorite'].isin(users)]\n",
    "fav_data['user_favorite'].value_counts()"
   ]
  },
  {
   "cell_type": "code",
   "execution_count": 22,
   "id": "b2cc1887-576e-4e59-9098-96dad58eaa3c",
   "metadata": {},
   "outputs": [],
   "source": [
    "fav_data = fav_data[['user_favorite', 'title']]"
   ]
  },
  {
   "cell_type": "code",
   "execution_count": 23,
   "id": "6c87c970-3392-47dd-8fc8-cf10cae945cc",
   "metadata": {},
   "outputs": [],
   "source": [
    "fav_data[\"title\"] = (\n",
    "    fav_data[\"title\"]\n",
    "    .str.lower()\n",
    "    .apply(lambda x: re.sub(r\"\"\"(?<=\\w)([!?,.-:/\"/'])\"\"\", r\" \\1 \", x))\n",
    "    .apply(remove_space)\n",
    "    .str.strip()\n",
    ")\n",
    "\n",
    "fav_data[\"title\"] = fav_data[\"title\"].apply(\n",
    "    lambda x: tokenize(x, word2int)\n",
    ")\n",
    "\n",
    "fav_data = fav_data.loc[fav_data['title'].apply(len) > 0]"
   ]
  },
  {
   "cell_type": "code",
   "execution_count": 24,
   "id": "3cb32abc-34df-427f-aa1b-0549bfc37ed0",
   "metadata": {},
   "outputs": [],
   "source": [
    "fav_data = fav_data.groupby('user_favorite')['title'].apply(list).reset_index()"
   ]
  },
  {
   "cell_type": "code",
   "execution_count": 25,
   "id": "25aaa073-ec1b-431d-8ee0-52dcbf27bf20",
   "metadata": {},
   "outputs": [],
   "source": [
    "fav_data['title'] = fav_data['title'].apply(lambda x: [(news + [0] * config.num_words_title)[:config.num_words_title] for news in x])\n",
    "fav_data['title'] = fav_data['title'].apply(lambda x: x[-config.num_words_abstract:])"
   ]
  },
  {
   "cell_type": "code",
   "execution_count": 26,
   "id": "4767fc2a-9417-4641-ab58-502861dec4aa",
   "metadata": {},
   "outputs": [],
   "source": [
    "fav_data['title'] = fav_data['title'].apply(\n",
    "    lambda x: [[0] * config.num_words_title] * (config.num_clicked_news_a_user - len(x)) + x\n",
    ")"
   ]
  },
  {
   "cell_type": "code",
   "execution_count": 27,
   "id": "645e3145-ec6b-4e55-828a-ff989978430a",
   "metadata": {},
   "outputs": [],
   "source": [
    "user_vector = fav_data.set_index('user_favorite')['title'].to_dict()\n",
    "\n",
    "for k, v in user_vector.items():\n",
    "    user_vector[k] = {'title': torch.tensor(v)}"
   ]
  },
  {
   "cell_type": "code",
   "execution_count": 28,
   "id": "07de21a7-1659-437d-8c39-b29da5f12447",
   "metadata": {},
   "outputs": [
    {
     "data": {
      "application/vnd.jupyter.widget-view+json": {
       "model_id": "5e9784014ebf46a9b16520a61cc58590",
       "version_major": 2,
       "version_minor": 0
      },
      "text/plain": [
       "  0%|          | 0/5 [00:00<?, ?it/s]"
      ]
     },
     "metadata": {},
     "output_type": "display_data"
    }
   ],
   "source": [
    "for k, v in tqdm(user_vector.items()):\n",
    "    user_vector[k] = embed_model.get_news_vector(v)"
   ]
  },
  {
   "cell_type": "code",
   "execution_count": 29,
   "id": "0e9de570-350c-4482-a190-e8d09c965d78",
   "metadata": {},
   "outputs": [],
   "source": [
    "browsed_news = torch.stack(list(user_vector.values()))"
   ]
  },
  {
   "cell_type": "code",
   "execution_count": 30,
   "id": "73c11c2a-3203-47c9-bad7-a53138ea6216",
   "metadata": {},
   "outputs": [],
   "source": [
    "user_vector = embed_model.get_user_vector(browsed_news).tolist()"
   ]
  },
  {
   "cell_type": "code",
   "execution_count": 31,
   "id": "c7b45273-f40f-488f-8554-5c433b4f5254",
   "metadata": {},
   "outputs": [],
   "source": [
    "user_vector = {fav_data['user_favorite'].iloc[i]: torch.tensor(vec) for i, vec in enumerate(user_vector)}"
   ]
  },
  {
   "cell_type": "code",
   "execution_count": null,
   "id": "fbde2db9-5bc1-4bd1-be94-2353a9d76319",
   "metadata": {},
   "outputs": [],
   "source": []
  },
  {
   "cell_type": "code",
   "execution_count": 45,
   "id": "20664931-87f1-4e36-ab1f-622f086c4f9c",
   "metadata": {},
   "outputs": [
    {
     "data": {
      "application/vnd.jupyter.widget-view+json": {
       "model_id": "a7f45728a6d94608835c33b220d7fd7a",
       "version_major": 2,
       "version_minor": 0
      },
      "text/plain": [
       "  0%|          | 0/5 [00:00<?, ?it/s]"
      ]
     },
     "metadata": {},
     "output_type": "display_data"
    }
   ],
   "source": [
    "preds = {}\n",
    "\n",
    "for user, vec in tqdm(user_vector.items()):\n",
    "    preds[user] = embed_model.get_prediction(news_vector, vec).sigmoid().tolist()"
   ]
  },
  {
   "cell_type": "code",
   "execution_count": 46,
   "id": "9418e989-be65-478e-bc66-3fd43447f4e1",
   "metadata": {},
   "outputs": [],
   "source": [
    "for k, v in preds.items():\n",
    "    preds[k] = [[df.iloc[i]['item_id'], prob] for i, prob in enumerate(v)]\n",
    "    preds[k] = sorted(preds[k], key=lambda x: -x[1])[:10]\n",
    "    \n",
    "preds = pd.DataFrame(preds).T.reset_index()\n",
    "preds = preds.rename(columns={'index': 'username'})\n",
    "cols = list(range(10))\n",
    "preds['story_id'] = preds[cols].apply(lambda x: x.tolist(), axis=1)\n",
    "preds = preds.drop(cols, axis=1)\n",
    "preds = preds.explode('story_id').reset_index(drop=True)\n",
    "preds['score'] = preds['story_id'].apply(lambda x: x[1])\n",
    "preds['story_id'] = preds['story_id'].apply(lambda x: x[0])"
   ]
  },
  {
   "cell_type": "code",
   "execution_count": 48,
   "id": "d1dd82ff-47e6-465f-9c3c-d86ca918af5b",
   "metadata": {},
   "outputs": [],
   "source": [
    "preds.to_csv('data/new_stories_user_pred.tsv', sep=\"\\t\", header=True, index=False)\n",
    "\n",
    "with open('data/new_stories_user_pred.pkl', 'wb') as fp:\n",
    "    pickle.dump(preds, fp)"
   ]
  },
  {
   "cell_type": "code",
   "execution_count": null,
   "id": "fff635c2-ddd8-42c7-bf33-56927149e118",
   "metadata": {},
   "outputs": [],
   "source": []
  },
  {
   "cell_type": "code",
   "execution_count": null,
   "id": "41031725-5fef-4535-b478-cba4318734d7",
   "metadata": {},
   "outputs": [],
   "source": []
  },
  {
   "cell_type": "code",
   "execution_count": null,
   "id": "b0059beb-cd48-4911-a6b5-c0d3bfa2fe69",
   "metadata": {},
   "outputs": [],
   "source": []
  },
  {
   "cell_type": "code",
   "execution_count": null,
   "id": "7292df51-2d11-4e55-b98e-25cfde724d29",
   "metadata": {},
   "outputs": [],
   "source": []
  },
  {
   "cell_type": "code",
   "execution_count": null,
   "id": "83ba6625-4d1b-4da2-a633-cc19cf08b625",
   "metadata": {},
   "outputs": [],
   "source": []
  }
 ],
 "metadata": {
  "kernelspec": {
   "display_name": "Python 3 (ipykernel)",
   "language": "python",
   "name": "python3"
  },
  "language_info": {
   "codemirror_mode": {
    "name": "ipython",
    "version": 3
   },
   "file_extension": ".py",
   "mimetype": "text/x-python",
   "name": "python",
   "nbconvert_exporter": "python",
   "pygments_lexer": "ipython3",
   "version": "3.9.12"
  }
 },
 "nbformat": 4,
 "nbformat_minor": 5
}
