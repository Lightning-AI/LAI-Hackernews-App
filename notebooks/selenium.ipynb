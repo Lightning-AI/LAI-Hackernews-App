{
 "cells": [
  {
   "cell_type": "code",
   "execution_count": 96,
   "id": "41c61e08-9966-4f94-9c3c-d6760c4176bf",
   "metadata": {},
   "outputs": [],
   "source": [
    "from selenium import webdriver\n",
    "\n",
    "from selenium.webdriver.common.by import By"
   ]
  },
  {
   "cell_type": "code",
   "execution_count": 90,
   "id": "92a74cb5-c468-4a54-9b39-338738fdadc7",
   "metadata": {},
   "outputs": [
    {
     "name": "stderr",
     "output_type": "stream",
     "text": [
      "<ipython-input-90-d5ab7847506c>:4: DeprecationWarning: executable_path has been deprecated, please pass in a Service object\n",
      "  driver = webdriver.Chrome(\"/Users/aniket/Downloads/chromedriver\")\n"
     ]
    }
   ],
   "source": [
    "# Download chromedriver first https://chromedriver.chromium.org/downloads\n",
    "driver = webdriver.Chrome(\"chromedriver\")"
   ]
  },
  {
   "cell_type": "code",
   "execution_count": 91,
   "id": "9bcd7716-857d-4c3c-bdb9-6680935f325a",
   "metadata": {},
   "outputs": [],
   "source": [
    "url = \"https://01g4035q1yhgte5czmd7h1zx4h.litng-ai-03.litng.ai/view/Home\""
   ]
  },
  {
   "cell_type": "code",
   "execution_count": 92,
   "id": "4146946d-823b-4fbf-adf8-f3ef12e766c3",
   "metadata": {},
   "outputs": [],
   "source": [
    "driver.get(url)"
   ]
  },
  {
   "cell_type": "code",
   "execution_count": 97,
   "id": "aa17ce21-e467-489c-8dfd-ffc4ae3b5cdc",
   "metadata": {},
   "outputs": [],
   "source": [
    "streamlit_input_xpath = \"/html/body/div/div[1]/div/div/div/div/section/div/div[1]/div/div[2]/div/div[3]/div/div[1]/div/input\""
   ]
  },
  {
   "cell_type": "code",
   "execution_count": 98,
   "id": "ff8757b2-ebe9-472b-9829-1121fe58d606",
   "metadata": {},
   "outputs": [],
   "source": [
    "# path = \"/html/body/div[1]/div[3]/form/div[1]/div[1]/div[1]/div/div[2]/input\""
   ]
  },
  {
   "cell_type": "code",
   "execution_count": 99,
   "id": "826cdb29-29c1-4cfa-8784-305001949c45",
   "metadata": {},
   "outputs": [],
   "source": [
    "# This is not working, Streamlit not accessible\n",
    "driver.find_elements(by=By.XPATH, value=streamlit_input_xpath)"
   ]
  },
  {
   "cell_type": "code",
   "execution_count": null,
   "id": "4f8cff25-8647-4bc0-95a6-4d570f9edc34",
   "metadata": {},
   "outputs": [],
   "source": []
  },
  {
   "cell_type": "markdown",
   "id": "2cc43096-3190-4466-9294-cb6d5d6c3d9c",
   "metadata": {},
   "source": [
    "## test if selector works inside Lightning app body"
   ]
  },
  {
   "cell_type": "code",
   "execution_count": 93,
   "id": "97a9479b-bec5-4561-8716-e4bf9cf53fe9",
   "metadata": {},
   "outputs": [],
   "source": [
    "# driver.find_element(by=By.TAG_NAME, value=\"IMG\")\n",
    "img = driver.find_element(by=By.TAG_NAME, value=\"article\")"
   ]
  },
  {
   "cell_type": "code",
   "execution_count": 94,
   "id": "7e0496b7-4128-442c-ab5f-a9aa6d422fe5",
   "metadata": {},
   "outputs": [],
   "source": [
    "img.click()"
   ]
  },
  {
   "cell_type": "code",
   "execution_count": 95,
   "id": "46075f13-cbed-4532-b84c-2adc41a255d1",
   "metadata": {},
   "outputs": [],
   "source": [
    "with open(\"img.png\", 'wb') as fw:\n",
    "    fw.write(img.screenshot_as_png)"
   ]
  },
  {
   "cell_type": "code",
   "execution_count": 4,
   "id": "c3201534-d479-41e0-b616-bd1fdab1bc24",
   "metadata": {},
   "outputs": [],
   "source": [
    "driver.quit()"
   ]
  },
  {
   "cell_type": "code",
   "execution_count": null,
   "id": "934cd218-c9ce-4e81-a093-3018e8852742",
   "metadata": {},
   "outputs": [],
   "source": []
  }
 ],
 "metadata": {
  "kernelspec": {
   "display_name": "Python 3",
   "language": "python",
   "name": "python3"
  },
  "language_info": {
   "codemirror_mode": {
    "name": "ipython",
    "version": 3
   },
   "file_extension": ".py",
   "mimetype": "text/x-python",
   "name": "python",
   "nbconvert_exporter": "python",
   "pygments_lexer": "ipython3",
   "version": "3.9.7"
  }
 },
 "nbformat": 4,
 "nbformat_minor": 5
}
