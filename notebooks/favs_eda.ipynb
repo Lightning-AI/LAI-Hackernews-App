{
 "cells": [
  {
   "cell_type": "code",
   "execution_count": 32,
   "id": "sound-violation",
   "metadata": {},
   "outputs": [],
   "source": [
    "import pandas as pd"
   ]
  },
  {
   "cell_type": "code",
   "execution_count": 33,
   "id": "compact-medication",
   "metadata": {},
   "outputs": [],
   "source": [
    "fav_df = pd.read_csv(\"all_data.csv\")"
   ]
  },
  {
   "cell_type": "code",
   "execution_count": 34,
   "id": "included-announcement",
   "metadata": {},
   "outputs": [
    {
     "data": {
      "text/html": [
       "<div>\n",
       "<style scoped>\n",
       "    .dataframe tbody tr th:only-of-type {\n",
       "        vertical-align: middle;\n",
       "    }\n",
       "\n",
       "    .dataframe tbody tr th {\n",
       "        vertical-align: top;\n",
       "    }\n",
       "\n",
       "    .dataframe thead th {\n",
       "        text-align: right;\n",
       "    }\n",
       "</style>\n",
       "<table border=\"1\" class=\"dataframe\">\n",
       "  <thead>\n",
       "    <tr style=\"text-align: right;\">\n",
       "      <th></th>\n",
       "      <th>user_favorite</th>\n",
       "      <th>id</th>\n",
       "      <th>title</th>\n",
       "      <th>by</th>\n",
       "      <th>url</th>\n",
       "      <th>timestamp</th>\n",
       "      <th>type</th>\n",
       "    </tr>\n",
       "  </thead>\n",
       "  <tbody>\n",
       "    <tr>\n",
       "      <th>0</th>\n",
       "      <td>0-1</td>\n",
       "      <td>23884193</td>\n",
       "      <td>NaN</td>\n",
       "      <td>jnxx</td>\n",
       "      <td>NaN</td>\n",
       "      <td>2020-07-18T19:41:28Z</td>\n",
       "      <td>comment</td>\n",
       "    </tr>\n",
       "    <tr>\n",
       "      <th>1</th>\n",
       "      <td>0-O-0</td>\n",
       "      <td>23473568</td>\n",
       "      <td>NaN</td>\n",
       "      <td>heavyset_go</td>\n",
       "      <td>NaN</td>\n",
       "      <td>2020-06-10T03:19:33Z</td>\n",
       "      <td>comment</td>\n",
       "    </tr>\n",
       "    <tr>\n",
       "      <th>2</th>\n",
       "      <td>0-_-0</td>\n",
       "      <td>29765231</td>\n",
       "      <td>NaN</td>\n",
       "      <td>willhinsa</td>\n",
       "      <td>NaN</td>\n",
       "      <td>2022-01-02T02:43:20Z</td>\n",
       "      <td>comment</td>\n",
       "    </tr>\n",
       "    <tr>\n",
       "      <th>3</th>\n",
       "      <td>0-_-0</td>\n",
       "      <td>29661868</td>\n",
       "      <td>Promise of Analog AI Feeds Neural Net Hardware...</td>\n",
       "      <td>rbanffy</td>\n",
       "      <td>https://spectrum.ieee.org/new-devices-for-anal...</td>\n",
       "      <td>2021-12-23T14:02:20Z</td>\n",
       "      <td>story</td>\n",
       "    </tr>\n",
       "    <tr>\n",
       "      <th>4</th>\n",
       "      <td>0-_-0</td>\n",
       "      <td>29630755</td>\n",
       "      <td>NaN</td>\n",
       "      <td>tromp</td>\n",
       "      <td>NaN</td>\n",
       "      <td>2021-12-20T21:48:50Z</td>\n",
       "      <td>comment</td>\n",
       "    </tr>\n",
       "    <tr>\n",
       "      <th>...</th>\n",
       "      <td>...</td>\n",
       "      <td>...</td>\n",
       "      <td>...</td>\n",
       "      <td>...</td>\n",
       "      <td>...</td>\n",
       "      <td>...</td>\n",
       "      <td>...</td>\n",
       "    </tr>\n",
       "    <tr>\n",
       "      <th>95</th>\n",
       "      <td>01100011</td>\n",
       "      <td>20570025</td>\n",
       "      <td>Math Basics for Computer Science and Machine L...</td>\n",
       "      <td>oldgun</td>\n",
       "      <td>http://www.cis.upenn.edu/~jean/math-basics.pdf</td>\n",
       "      <td>2019-07-30T22:48:39Z</td>\n",
       "      <td>story</td>\n",
       "    </tr>\n",
       "    <tr>\n",
       "      <th>96</th>\n",
       "      <td>01100011</td>\n",
       "      <td>20524543</td>\n",
       "      <td>An Introduction to Recurrent Neural Networks</td>\n",
       "      <td>bibyte</td>\n",
       "      <td>https://victorzhou.com/blog/intro-to-rnns/</td>\n",
       "      <td>2019-07-25T11:46:27Z</td>\n",
       "      <td>story</td>\n",
       "    </tr>\n",
       "    <tr>\n",
       "      <th>97</th>\n",
       "      <td>01100011</td>\n",
       "      <td>20290042</td>\n",
       "      <td>It’s Time for Some Queueing Theory</td>\n",
       "      <td>sogen</td>\n",
       "      <td>https://kottke.org/19/01/its-time-for-some-que...</td>\n",
       "      <td>2019-06-26T22:47:08Z</td>\n",
       "      <td>story</td>\n",
       "    </tr>\n",
       "    <tr>\n",
       "      <th>98</th>\n",
       "      <td>01100011</td>\n",
       "      <td>20230133</td>\n",
       "      <td>Ask HN: What are the signs that you have a gre...</td>\n",
       "      <td>rahulskn86</td>\n",
       "      <td>NaN</td>\n",
       "      <td>2019-06-20T05:22:15Z</td>\n",
       "      <td>story</td>\n",
       "    </tr>\n",
       "    <tr>\n",
       "      <th>99</th>\n",
       "      <td>01100011</td>\n",
       "      <td>19933274</td>\n",
       "      <td>Matrix Methods in Data Analysis, Signal Proces...</td>\n",
       "      <td>ericol</td>\n",
       "      <td>https://ocw.mit.edu/courses/mathematics/18-065...</td>\n",
       "      <td>2019-05-16T21:11:26Z</td>\n",
       "      <td>story</td>\n",
       "    </tr>\n",
       "  </tbody>\n",
       "</table>\n",
       "<p>100 rows × 7 columns</p>\n",
       "</div>"
      ],
      "text/plain": [
       "   user_favorite        id                                              title  \\\n",
       "0            0-1  23884193                                                NaN   \n",
       "1          0-O-0  23473568                                                NaN   \n",
       "2          0-_-0  29765231                                                NaN   \n",
       "3          0-_-0  29661868  Promise of Analog AI Feeds Neural Net Hardware...   \n",
       "4          0-_-0  29630755                                                NaN   \n",
       "..           ...       ...                                                ...   \n",
       "95      01100011  20570025  Math Basics for Computer Science and Machine L...   \n",
       "96      01100011  20524543       An Introduction to Recurrent Neural Networks   \n",
       "97      01100011  20290042                 It’s Time for Some Queueing Theory   \n",
       "98      01100011  20230133  Ask HN: What are the signs that you have a gre...   \n",
       "99      01100011  19933274  Matrix Methods in Data Analysis, Signal Proces...   \n",
       "\n",
       "             by                                                url  \\\n",
       "0          jnxx                                                NaN   \n",
       "1   heavyset_go                                                NaN   \n",
       "2     willhinsa                                                NaN   \n",
       "3       rbanffy  https://spectrum.ieee.org/new-devices-for-anal...   \n",
       "4         tromp                                                NaN   \n",
       "..          ...                                                ...   \n",
       "95       oldgun     http://www.cis.upenn.edu/~jean/math-basics.pdf   \n",
       "96       bibyte         https://victorzhou.com/blog/intro-to-rnns/   \n",
       "97        sogen  https://kottke.org/19/01/its-time-for-some-que...   \n",
       "98   rahulskn86                                                NaN   \n",
       "99       ericol  https://ocw.mit.edu/courses/mathematics/18-065...   \n",
       "\n",
       "               timestamp     type  \n",
       "0   2020-07-18T19:41:28Z  comment  \n",
       "1   2020-06-10T03:19:33Z  comment  \n",
       "2   2022-01-02T02:43:20Z  comment  \n",
       "3   2021-12-23T14:02:20Z    story  \n",
       "4   2021-12-20T21:48:50Z  comment  \n",
       "..                   ...      ...  \n",
       "95  2019-07-30T22:48:39Z    story  \n",
       "96  2019-07-25T11:46:27Z    story  \n",
       "97  2019-06-26T22:47:08Z    story  \n",
       "98  2019-06-20T05:22:15Z    story  \n",
       "99  2019-05-16T21:11:26Z    story  \n",
       "\n",
       "[100 rows x 7 columns]"
      ]
     },
     "execution_count": 34,
     "metadata": {},
     "output_type": "execute_result"
    }
   ],
   "source": [
    "fav_df.head(100)"
   ]
  },
  {
   "cell_type": "code",
   "execution_count": 35,
   "id": "under-bidder",
   "metadata": {},
   "outputs": [
    {
     "name": "stdout",
     "output_type": "stream",
     "text": [
      "There are 3157374 data samples\n"
     ]
    }
   ],
   "source": [
    "print(f\"There are {fav_df.shape[0]} data samples\")"
   ]
  },
  {
   "cell_type": "code",
   "execution_count": 36,
   "id": "sonic-central",
   "metadata": {},
   "outputs": [
    {
     "name": "stdout",
     "output_type": "stream",
     "text": [
      "Data consists of 96086 users\n"
     ]
    }
   ],
   "source": [
    "print(f\"Data consists of {fav_df['user_favorite'].nunique()} users\")"
   ]
  },
  {
   "cell_type": "code",
   "execution_count": 37,
   "id": "modular-victorian",
   "metadata": {},
   "outputs": [
    {
     "name": "stdout",
     "output_type": "stream",
     "text": [
      "There are 2847996 favs of type \"story\"\n"
     ]
    }
   ],
   "source": [
    "print(f'There are {fav_df[fav_df[\"type\"] == \"story\"].shape[0]} favs of type \"story\"')"
   ]
  },
  {
   "cell_type": "code",
   "execution_count": 38,
   "id": "quality-speaking",
   "metadata": {},
   "outputs": [
    {
     "name": "stdout",
     "output_type": "stream",
     "text": [
      "308856 data samples have missing titles\n"
     ]
    }
   ],
   "source": [
    "print(f\"{fav_df['title'].isna().sum()} data samples have missing titles\")"
   ]
  },
  {
   "cell_type": "markdown",
   "id": "incorporated-pierre",
   "metadata": {},
   "source": [
    "## Drop rows with missing titles"
   ]
  },
  {
   "cell_type": "code",
   "execution_count": 39,
   "id": "naked-excerpt",
   "metadata": {},
   "outputs": [],
   "source": [
    "fav_df = fav_df.dropna(subset=[\"title\"])"
   ]
  },
  {
   "cell_type": "code",
   "execution_count": 40,
   "id": "upset-video",
   "metadata": {},
   "outputs": [
    {
     "data": {
      "text/html": [
       "<div>\n",
       "<style scoped>\n",
       "    .dataframe tbody tr th:only-of-type {\n",
       "        vertical-align: middle;\n",
       "    }\n",
       "\n",
       "    .dataframe tbody tr th {\n",
       "        vertical-align: top;\n",
       "    }\n",
       "\n",
       "    .dataframe thead th {\n",
       "        text-align: right;\n",
       "    }\n",
       "</style>\n",
       "<table border=\"1\" class=\"dataframe\">\n",
       "  <thead>\n",
       "    <tr style=\"text-align: right;\">\n",
       "      <th></th>\n",
       "      <th>user_favorite</th>\n",
       "      <th>id</th>\n",
       "      <th>title</th>\n",
       "      <th>by</th>\n",
       "      <th>url</th>\n",
       "      <th>timestamp</th>\n",
       "      <th>type</th>\n",
       "    </tr>\n",
       "  </thead>\n",
       "  <tbody>\n",
       "    <tr>\n",
       "      <th>3</th>\n",
       "      <td>0-_-0</td>\n",
       "      <td>29661868</td>\n",
       "      <td>Promise of Analog AI Feeds Neural Net Hardware...</td>\n",
       "      <td>rbanffy</td>\n",
       "      <td>https://spectrum.ieee.org/new-devices-for-anal...</td>\n",
       "      <td>2021-12-23T14:02:20Z</td>\n",
       "      <td>story</td>\n",
       "    </tr>\n",
       "    <tr>\n",
       "      <th>5</th>\n",
       "      <td>0-_-0</td>\n",
       "      <td>27894903</td>\n",
       "      <td>Show HN: WrittenRealms – a modern platform for...</td>\n",
       "      <td>teebes</td>\n",
       "      <td>https://writtenrealms.com/</td>\n",
       "      <td>2021-07-20T15:26:23Z</td>\n",
       "      <td>story</td>\n",
       "    </tr>\n",
       "    <tr>\n",
       "      <th>6</th>\n",
       "      <td>0-_-0</td>\n",
       "      <td>27559017</td>\n",
       "      <td>Advancing AI theory with first-principles unde...</td>\n",
       "      <td>pcaversaccio</td>\n",
       "      <td>https://ai.facebook.com/blog/advancing-ai-theo...</td>\n",
       "      <td>2021-06-19T09:07:36Z</td>\n",
       "      <td>story</td>\n",
       "    </tr>\n",
       "    <tr>\n",
       "      <th>9</th>\n",
       "      <td>0-_-0</td>\n",
       "      <td>26767441</td>\n",
       "      <td>A common mistake when NumPy’s RNG with PyTorch</td>\n",
       "      <td>sunils34</td>\n",
       "      <td>https://tanelp.github.io/posts/a-bug-that-plag...</td>\n",
       "      <td>2021-04-11T04:14:50Z</td>\n",
       "      <td>story</td>\n",
       "    </tr>\n",
       "    <tr>\n",
       "      <th>10</th>\n",
       "      <td>0-_-0</td>\n",
       "      <td>26371052</td>\n",
       "      <td>Problems with Eric Weinstein's “Geometric Unity”</td>\n",
       "      <td>mellosouls</td>\n",
       "      <td>http://backreaction.blogspot.com/2021/03/guest...</td>\n",
       "      <td>2021-03-06T22:20:47Z</td>\n",
       "      <td>story</td>\n",
       "    </tr>\n",
       "  </tbody>\n",
       "</table>\n",
       "</div>"
      ],
      "text/plain": [
       "   user_favorite        id                                              title  \\\n",
       "3          0-_-0  29661868  Promise of Analog AI Feeds Neural Net Hardware...   \n",
       "5          0-_-0  27894903  Show HN: WrittenRealms – a modern platform for...   \n",
       "6          0-_-0  27559017  Advancing AI theory with first-principles unde...   \n",
       "9          0-_-0  26767441     A common mistake when NumPy’s RNG with PyTorch   \n",
       "10         0-_-0  26371052   Problems with Eric Weinstein's “Geometric Unity”   \n",
       "\n",
       "              by                                                url  \\\n",
       "3        rbanffy  https://spectrum.ieee.org/new-devices-for-anal...   \n",
       "5         teebes                         https://writtenrealms.com/   \n",
       "6   pcaversaccio  https://ai.facebook.com/blog/advancing-ai-theo...   \n",
       "9       sunils34  https://tanelp.github.io/posts/a-bug-that-plag...   \n",
       "10    mellosouls  http://backreaction.blogspot.com/2021/03/guest...   \n",
       "\n",
       "               timestamp   type  \n",
       "3   2021-12-23T14:02:20Z  story  \n",
       "5   2021-07-20T15:26:23Z  story  \n",
       "6   2021-06-19T09:07:36Z  story  \n",
       "9   2021-04-11T04:14:50Z  story  \n",
       "10  2021-03-06T22:20:47Z  story  "
      ]
     },
     "execution_count": 40,
     "metadata": {},
     "output_type": "execute_result"
    }
   ],
   "source": [
    "fav_df.head()"
   ]
  },
  {
   "cell_type": "code",
   "execution_count": 41,
   "id": "virtual-egyptian",
   "metadata": {},
   "outputs": [
    {
     "name": "stdout",
     "output_type": "stream",
     "text": [
      "There are 2848518 data samples without missing titles\n",
      "Data consists of 89159 users\n",
      "There are 2847909 favs of type \"story\"\n",
      "0 data samples have missing titles\n"
     ]
    }
   ],
   "source": [
    "print(f\"There are {fav_df.shape[0]} data samples without missing titles\")\n",
    "print(f\"Data consists of {fav_df['user_favorite'].nunique()} users\")\n",
    "print(f'There are {fav_df[fav_df[\"type\"] == \"story\"].shape[0]} favs of type \"story\"')\n",
    "print(f\"{fav_df['title'].isna().sum()} data samples have missing titles\")"
   ]
  },
  {
   "cell_type": "markdown",
   "id": "later-height",
   "metadata": {},
   "source": [
    "### Consider only stories"
   ]
  },
  {
   "cell_type": "code",
   "execution_count": 42,
   "id": "weird-designer",
   "metadata": {},
   "outputs": [],
   "source": [
    "fav_df = fav_df[fav_df[\"type\"] == \"story\"]"
   ]
  },
  {
   "cell_type": "code",
   "execution_count": 43,
   "id": "inclusive-curve",
   "metadata": {},
   "outputs": [
    {
     "data": {
      "text/html": [
       "<div>\n",
       "<style scoped>\n",
       "    .dataframe tbody tr th:only-of-type {\n",
       "        vertical-align: middle;\n",
       "    }\n",
       "\n",
       "    .dataframe tbody tr th {\n",
       "        vertical-align: top;\n",
       "    }\n",
       "\n",
       "    .dataframe thead th {\n",
       "        text-align: right;\n",
       "    }\n",
       "</style>\n",
       "<table border=\"1\" class=\"dataframe\">\n",
       "  <thead>\n",
       "    <tr style=\"text-align: right;\">\n",
       "      <th></th>\n",
       "      <th>user_favorite</th>\n",
       "      <th>id</th>\n",
       "      <th>title</th>\n",
       "      <th>by</th>\n",
       "      <th>url</th>\n",
       "      <th>timestamp</th>\n",
       "      <th>type</th>\n",
       "    </tr>\n",
       "  </thead>\n",
       "  <tbody>\n",
       "    <tr>\n",
       "      <th>3</th>\n",
       "      <td>0-_-0</td>\n",
       "      <td>29661868</td>\n",
       "      <td>Promise of Analog AI Feeds Neural Net Hardware...</td>\n",
       "      <td>rbanffy</td>\n",
       "      <td>https://spectrum.ieee.org/new-devices-for-anal...</td>\n",
       "      <td>2021-12-23T14:02:20Z</td>\n",
       "      <td>story</td>\n",
       "    </tr>\n",
       "    <tr>\n",
       "      <th>5</th>\n",
       "      <td>0-_-0</td>\n",
       "      <td>27894903</td>\n",
       "      <td>Show HN: WrittenRealms – a modern platform for...</td>\n",
       "      <td>teebes</td>\n",
       "      <td>https://writtenrealms.com/</td>\n",
       "      <td>2021-07-20T15:26:23Z</td>\n",
       "      <td>story</td>\n",
       "    </tr>\n",
       "    <tr>\n",
       "      <th>6</th>\n",
       "      <td>0-_-0</td>\n",
       "      <td>27559017</td>\n",
       "      <td>Advancing AI theory with first-principles unde...</td>\n",
       "      <td>pcaversaccio</td>\n",
       "      <td>https://ai.facebook.com/blog/advancing-ai-theo...</td>\n",
       "      <td>2021-06-19T09:07:36Z</td>\n",
       "      <td>story</td>\n",
       "    </tr>\n",
       "    <tr>\n",
       "      <th>9</th>\n",
       "      <td>0-_-0</td>\n",
       "      <td>26767441</td>\n",
       "      <td>A common mistake when NumPy’s RNG with PyTorch</td>\n",
       "      <td>sunils34</td>\n",
       "      <td>https://tanelp.github.io/posts/a-bug-that-plag...</td>\n",
       "      <td>2021-04-11T04:14:50Z</td>\n",
       "      <td>story</td>\n",
       "    </tr>\n",
       "    <tr>\n",
       "      <th>10</th>\n",
       "      <td>0-_-0</td>\n",
       "      <td>26371052</td>\n",
       "      <td>Problems with Eric Weinstein's “Geometric Unity”</td>\n",
       "      <td>mellosouls</td>\n",
       "      <td>http://backreaction.blogspot.com/2021/03/guest...</td>\n",
       "      <td>2021-03-06T22:20:47Z</td>\n",
       "      <td>story</td>\n",
       "    </tr>\n",
       "  </tbody>\n",
       "</table>\n",
       "</div>"
      ],
      "text/plain": [
       "   user_favorite        id                                              title  \\\n",
       "3          0-_-0  29661868  Promise of Analog AI Feeds Neural Net Hardware...   \n",
       "5          0-_-0  27894903  Show HN: WrittenRealms – a modern platform for...   \n",
       "6          0-_-0  27559017  Advancing AI theory with first-principles unde...   \n",
       "9          0-_-0  26767441     A common mistake when NumPy’s RNG with PyTorch   \n",
       "10         0-_-0  26371052   Problems with Eric Weinstein's “Geometric Unity”   \n",
       "\n",
       "              by                                                url  \\\n",
       "3        rbanffy  https://spectrum.ieee.org/new-devices-for-anal...   \n",
       "5         teebes                         https://writtenrealms.com/   \n",
       "6   pcaversaccio  https://ai.facebook.com/blog/advancing-ai-theo...   \n",
       "9       sunils34  https://tanelp.github.io/posts/a-bug-that-plag...   \n",
       "10    mellosouls  http://backreaction.blogspot.com/2021/03/guest...   \n",
       "\n",
       "               timestamp   type  \n",
       "3   2021-12-23T14:02:20Z  story  \n",
       "5   2021-07-20T15:26:23Z  story  \n",
       "6   2021-06-19T09:07:36Z  story  \n",
       "9   2021-04-11T04:14:50Z  story  \n",
       "10  2021-03-06T22:20:47Z  story  "
      ]
     },
     "execution_count": 43,
     "metadata": {},
     "output_type": "execute_result"
    }
   ],
   "source": [
    "fav_df.head()"
   ]
  },
  {
   "cell_type": "code",
   "execution_count": 44,
   "id": "cordless-viewer",
   "metadata": {},
   "outputs": [
    {
     "name": "stdout",
     "output_type": "stream",
     "text": [
      "There are 2847909 data samples\n",
      "Data consists of 89144 users\n",
      "There are 2847909 favs of type \"story\"\n",
      "0 data samples have missing titles\n"
     ]
    }
   ],
   "source": [
    "print(f\"There are {fav_df.shape[0]} data samples\")\n",
    "print(f\"Data consists of {fav_df['user_favorite'].nunique()} users\")\n",
    "print(f'There are {fav_df[fav_df[\"type\"] == \"story\"].shape[0]} favs of type \"story\"')\n",
    "print(f\"{fav_df['title'].isna().sum()} data samples have missing titles\")"
   ]
  },
  {
   "cell_type": "markdown",
   "id": "blank-better",
   "metadata": {},
   "source": [
    "### Consider users with favs more than 5"
   ]
  },
  {
   "cell_type": "code",
   "execution_count": 45,
   "id": "wired-traveler",
   "metadata": {},
   "outputs": [
    {
     "data": {
      "text/plain": [
       "dasefx         99642\n",
       "akoster        46927\n",
       "1MachineElf    33815\n",
       "philonoist     31014\n",
       "msc-history    27957\n",
       "               ...  \n",
       "janiceng           1\n",
       "zarkov99           1\n",
       "Skywalker13        1\n",
       "jsonau             1\n",
       "dbomhof            1\n",
       "Name: user_favorite, Length: 89144, dtype: int64"
      ]
     },
     "execution_count": 45,
     "metadata": {},
     "output_type": "execute_result"
    }
   ],
   "source": [
    "fav_df[\"user_favorite\"].value_counts()"
   ]
  },
  {
   "cell_type": "code",
   "execution_count": 49,
   "id": "motivated-michigan",
   "metadata": {},
   "outputs": [
    {
     "name": "stdout",
     "output_type": "stream",
     "text": [
      "Users with favs more than 3: 25118\n",
      "Users with favs more than 5: 19793\n"
     ]
    }
   ],
   "source": [
    "print(f'Users with favs more than 3: {fav_df[fav_df[\"user_favorite\"].map(fav_df[\"user_favorite\"].value_counts()) > 3][\"user_favorite\"].nunique()}')\n",
    "print(f'Users with favs more than 5: {fav_df[fav_df[\"user_favorite\"].map(fav_df[\"user_favorite\"].value_counts()) > 5][\"user_favorite\"].nunique()}')"
   ]
  },
  {
   "cell_type": "code",
   "execution_count": 50,
   "id": "aboriginal-amount",
   "metadata": {},
   "outputs": [
    {
     "data": {
      "text/html": [
       "<div>\n",
       "<style scoped>\n",
       "    .dataframe tbody tr th:only-of-type {\n",
       "        vertical-align: middle;\n",
       "    }\n",
       "\n",
       "    .dataframe tbody tr th {\n",
       "        vertical-align: top;\n",
       "    }\n",
       "\n",
       "    .dataframe thead th {\n",
       "        text-align: right;\n",
       "    }\n",
       "</style>\n",
       "<table border=\"1\" class=\"dataframe\">\n",
       "  <thead>\n",
       "    <tr style=\"text-align: right;\">\n",
       "      <th></th>\n",
       "      <th>user_favorite</th>\n",
       "      <th>id</th>\n",
       "      <th>title</th>\n",
       "      <th>by</th>\n",
       "      <th>url</th>\n",
       "      <th>timestamp</th>\n",
       "      <th>type</th>\n",
       "    </tr>\n",
       "  </thead>\n",
       "  <tbody>\n",
       "    <tr>\n",
       "      <th>3</th>\n",
       "      <td>0-_-0</td>\n",
       "      <td>29661868</td>\n",
       "      <td>Promise of Analog AI Feeds Neural Net Hardware...</td>\n",
       "      <td>rbanffy</td>\n",
       "      <td>https://spectrum.ieee.org/new-devices-for-anal...</td>\n",
       "      <td>2021-12-23T14:02:20Z</td>\n",
       "      <td>story</td>\n",
       "    </tr>\n",
       "    <tr>\n",
       "      <th>5</th>\n",
       "      <td>0-_-0</td>\n",
       "      <td>27894903</td>\n",
       "      <td>Show HN: WrittenRealms – a modern platform for...</td>\n",
       "      <td>teebes</td>\n",
       "      <td>https://writtenrealms.com/</td>\n",
       "      <td>2021-07-20T15:26:23Z</td>\n",
       "      <td>story</td>\n",
       "    </tr>\n",
       "    <tr>\n",
       "      <th>6</th>\n",
       "      <td>0-_-0</td>\n",
       "      <td>27559017</td>\n",
       "      <td>Advancing AI theory with first-principles unde...</td>\n",
       "      <td>pcaversaccio</td>\n",
       "      <td>https://ai.facebook.com/blog/advancing-ai-theo...</td>\n",
       "      <td>2021-06-19T09:07:36Z</td>\n",
       "      <td>story</td>\n",
       "    </tr>\n",
       "    <tr>\n",
       "      <th>9</th>\n",
       "      <td>0-_-0</td>\n",
       "      <td>26767441</td>\n",
       "      <td>A common mistake when NumPy’s RNG with PyTorch</td>\n",
       "      <td>sunils34</td>\n",
       "      <td>https://tanelp.github.io/posts/a-bug-that-plag...</td>\n",
       "      <td>2021-04-11T04:14:50Z</td>\n",
       "      <td>story</td>\n",
       "    </tr>\n",
       "    <tr>\n",
       "      <th>10</th>\n",
       "      <td>0-_-0</td>\n",
       "      <td>26371052</td>\n",
       "      <td>Problems with Eric Weinstein's “Geometric Unity”</td>\n",
       "      <td>mellosouls</td>\n",
       "      <td>http://backreaction.blogspot.com/2021/03/guest...</td>\n",
       "      <td>2021-03-06T22:20:47Z</td>\n",
       "      <td>story</td>\n",
       "    </tr>\n",
       "  </tbody>\n",
       "</table>\n",
       "</div>"
      ],
      "text/plain": [
       "   user_favorite        id                                              title  \\\n",
       "3          0-_-0  29661868  Promise of Analog AI Feeds Neural Net Hardware...   \n",
       "5          0-_-0  27894903  Show HN: WrittenRealms – a modern platform for...   \n",
       "6          0-_-0  27559017  Advancing AI theory with first-principles unde...   \n",
       "9          0-_-0  26767441     A common mistake when NumPy’s RNG with PyTorch   \n",
       "10         0-_-0  26371052   Problems with Eric Weinstein's “Geometric Unity”   \n",
       "\n",
       "              by                                                url  \\\n",
       "3        rbanffy  https://spectrum.ieee.org/new-devices-for-anal...   \n",
       "5         teebes                         https://writtenrealms.com/   \n",
       "6   pcaversaccio  https://ai.facebook.com/blog/advancing-ai-theo...   \n",
       "9       sunils34  https://tanelp.github.io/posts/a-bug-that-plag...   \n",
       "10    mellosouls  http://backreaction.blogspot.com/2021/03/guest...   \n",
       "\n",
       "               timestamp   type  \n",
       "3   2021-12-23T14:02:20Z  story  \n",
       "5   2021-07-20T15:26:23Z  story  \n",
       "6   2021-06-19T09:07:36Z  story  \n",
       "9   2021-04-11T04:14:50Z  story  \n",
       "10  2021-03-06T22:20:47Z  story  "
      ]
     },
     "execution_count": 50,
     "metadata": {},
     "output_type": "execute_result"
    }
   ],
   "source": [
    "fav_df.head()"
   ]
  },
  {
   "cell_type": "code",
   "execution_count": 51,
   "id": "differential-dubai",
   "metadata": {},
   "outputs": [
    {
     "name": "stdout",
     "output_type": "stream",
     "text": [
      "There are 2847909 data samples\n",
      "Data consists of 89144 users\n"
     ]
    }
   ],
   "source": [
    "print(f\"There are {fav_df.shape[0]} data samples\")\n",
    "print(f\"Data consists of {fav_df['user_favorite'].nunique()} users\")"
   ]
  },
  {
   "cell_type": "markdown",
   "id": "short-congress",
   "metadata": {},
   "source": [
    "## Save the dataframe"
   ]
  },
  {
   "cell_type": "code",
   "execution_count": 52,
   "id": "julian-remark",
   "metadata": {},
   "outputs": [],
   "source": [
    "fav_df.to_csv(\"filtered_fav_data.csv\")"
   ]
  },
  {
   "cell_type": "code",
   "execution_count": null,
   "id": "wanted-perfume",
   "metadata": {},
   "outputs": [],
   "source": []
  }
 ],
 "metadata": {
  "kernelspec": {
   "display_name": "Python 3",
   "language": "python",
   "name": "python3"
  },
  "language_info": {
   "codemirror_mode": {
    "name": "ipython",
    "version": 3
   },
   "file_extension": ".py",
   "mimetype": "text/x-python",
   "name": "python",
   "nbconvert_exporter": "python",
   "pygments_lexer": "ipython3",
   "version": "3.8.12"
  }
 },
 "nbformat": 4,
 "nbformat_minor": 5
}
