{
 "cells": [
  {
   "cell_type": "code",
   "execution_count": 15,
   "id": "ae74f492-10f0-42db-a839-ecae99169c49",
   "metadata": {},
   "outputs": [],
   "source": [
    "import json\n",
    "import pandas as pd\n",
    "import random\n",
    "import numpy as np\n",
    "from tqdm.auto import tqdm\n",
    "import csv\n",
    "from collections import defaultdict\n",
    "import re\n",
    "import ast"
   ]
  },
  {
   "cell_type": "code",
   "execution_count": 16,
   "id": "dc162222-a6fc-41e3-8dfd-ad81db988671",
   "metadata": {},
   "outputs": [],
   "source": [
    "negative_sampling_ratio = 5\n",
    "least_fav_topic_count = 4\n",
    "min_word_freq = 1\n",
    "embedding_size = 300"
   ]
  },
  {
   "cell_type": "code",
   "execution_count": 17,
   "id": "a435ce3d-23b8-4a95-ba19-af296be46ebd",
   "metadata": {},
   "outputs": [
    {
     "name": "stdout",
     "output_type": "stream",
     "text": [
      "datamodule.py               glove.840B.300d.txt.zip\n",
      "dataset.py                  prepared_data.csv\n",
      "filtered_train.csv          prepared_data_tokenized.csv\n",
      "final_embeddings.csv        train_data.csv\n",
      "final_embeddings.npy        user_least_fav.json\n",
      "glove.6B.300d.txt           user_topic_dist.json\n",
      "glove.6B.300d.txt.zip       word2int.csv\n",
      "glove.840B.300d.txt         word2int.json\n"
     ]
    }
   ],
   "source": [
    "!ls ../data/"
   ]
  },
  {
   "cell_type": "code",
   "execution_count": 4,
   "id": "a38b7c99-a779-47ea-b420-042f1408893f",
   "metadata": {},
   "outputs": [],
   "source": [
    "spaces = ['\\u200b', '\\u200e', '\\u202a', '\\u202c', '\\ufeff', '\\uf0d8', '\\u2061', '\\x10', '\\x7f', '\\x9d', '\\xad', '\\xa0', '\\u202f']\n",
    "\n",
    "def remove_space(text):\n",
    "    for space in spaces:\n",
    "        text = text.replace(space, ' ')\n",
    "    text = text.strip()\n",
    "    text = re.sub(r'\\s+', ' ', text)\n",
    "    return text.strip()"
   ]
  },
  {
   "cell_type": "code",
   "execution_count": null,
   "id": "b88a980f-79ae-43c1-bc43-5faaa8c50d7f",
   "metadata": {},
   "outputs": [],
   "source": []
  },
  {
   "cell_type": "code",
   "execution_count": null,
   "id": "3a7c8d02-0a3d-448a-a9fc-dd558b3d696c",
   "metadata": {},
   "outputs": [],
   "source": []
  },
  {
   "cell_type": "code",
   "execution_count": 5,
   "id": "a2f4e6de-1241-4013-9e11-bf0e3af020f3",
   "metadata": {},
   "outputs": [],
   "source": [
    "df = pd.read_csv('../data/filtered_train.csv')"
   ]
  },
  {
   "cell_type": "code",
   "execution_count": 6,
   "id": "43469673-f8d0-4b7c-8603-9bec2d922ee1",
   "metadata": {},
   "outputs": [
    {
     "data": {
      "text/html": [
       "<div>\n",
       "<style scoped>\n",
       "    .dataframe tbody tr th:only-of-type {\n",
       "        vertical-align: middle;\n",
       "    }\n",
       "\n",
       "    .dataframe tbody tr th {\n",
       "        vertical-align: top;\n",
       "    }\n",
       "\n",
       "    .dataframe thead th {\n",
       "        text-align: right;\n",
       "    }\n",
       "</style>\n",
       "<table border=\"1\" class=\"dataframe\">\n",
       "  <thead>\n",
       "    <tr style=\"text-align: right;\">\n",
       "      <th></th>\n",
       "      <th>id</th>\n",
       "      <th>id.1</th>\n",
       "      <th>pred_class</th>\n",
       "      <th>user_favorite</th>\n",
       "      <th>title</th>\n",
       "    </tr>\n",
       "  </thead>\n",
       "  <tbody>\n",
       "    <tr>\n",
       "      <th>0</th>\n",
       "      <td>18322229</td>\n",
       "      <td>29661868</td>\n",
       "      <td>News and Politics</td>\n",
       "      <td>0-_-0</td>\n",
       "      <td>Promise of Analog AI Feeds Neural Net Hardware...</td>\n",
       "    </tr>\n",
       "    <tr>\n",
       "      <th>1</th>\n",
       "      <td>29978099</td>\n",
       "      <td>27894903</td>\n",
       "      <td>Lifestyle</td>\n",
       "      <td>0-_-0</td>\n",
       "      <td>Show HN: WrittenRealms – a modern platform for...</td>\n",
       "    </tr>\n",
       "    <tr>\n",
       "      <th>2</th>\n",
       "      <td>16534781</td>\n",
       "      <td>27559017</td>\n",
       "      <td>News and Politics</td>\n",
       "      <td>0-_-0</td>\n",
       "      <td>Advancing AI theory with first-principles unde...</td>\n",
       "    </tr>\n",
       "    <tr>\n",
       "      <th>3</th>\n",
       "      <td>26271851</td>\n",
       "      <td>26767441</td>\n",
       "      <td>Technology</td>\n",
       "      <td>0-_-0</td>\n",
       "      <td>A common mistake when NumPy’s RNG with PyTorch</td>\n",
       "    </tr>\n",
       "    <tr>\n",
       "      <th>4</th>\n",
       "      <td>22151396</td>\n",
       "      <td>26371052</td>\n",
       "      <td>Culture and Arts</td>\n",
       "      <td>0-_-0</td>\n",
       "      <td>Problems with Eric Weinstein's “Geometric Unity”</td>\n",
       "    </tr>\n",
       "  </tbody>\n",
       "</table>\n",
       "</div>"
      ],
      "text/plain": [
       "         id      id.1         pred_class user_favorite  \\\n",
       "0  18322229  29661868  News and Politics         0-_-0   \n",
       "1  29978099  27894903          Lifestyle         0-_-0   \n",
       "2  16534781  27559017  News and Politics         0-_-0   \n",
       "3  26271851  26767441         Technology         0-_-0   \n",
       "4  22151396  26371052   Culture and Arts         0-_-0   \n",
       "\n",
       "                                               title  \n",
       "0  Promise of Analog AI Feeds Neural Net Hardware...  \n",
       "1  Show HN: WrittenRealms – a modern platform for...  \n",
       "2  Advancing AI theory with first-principles unde...  \n",
       "3     A common mistake when NumPy’s RNG with PyTorch  \n",
       "4   Problems with Eric Weinstein's “Geometric Unity”  "
      ]
     },
     "execution_count": 6,
     "metadata": {},
     "output_type": "execute_result"
    }
   ],
   "source": [
    "df.head()"
   ]
  },
  {
   "cell_type": "code",
   "execution_count": 7,
   "id": "195d79ce-9fb4-4f98-9cb5-7a1454437a5d",
   "metadata": {},
   "outputs": [],
   "source": [
    "df['title'] = (df['title']\n",
    "               .str.lower()\n",
    "               .apply(lambda x: re.sub(\"\"\"(?<=\\w)([!?,.-:/\"/'])\"\"\", r' \\1 ', x))\n",
    "               .apply(remove_space)\n",
    "               .str.strip())"
   ]
  },
  {
   "cell_type": "code",
   "execution_count": 8,
   "id": "8a72b1bc-0eae-40da-8534-1e1391ddbe74",
   "metadata": {},
   "outputs": [
    {
     "data": {
      "text/html": [
       "<div>\n",
       "<style scoped>\n",
       "    .dataframe tbody tr th:only-of-type {\n",
       "        vertical-align: middle;\n",
       "    }\n",
       "\n",
       "    .dataframe tbody tr th {\n",
       "        vertical-align: top;\n",
       "    }\n",
       "\n",
       "    .dataframe thead th {\n",
       "        text-align: right;\n",
       "    }\n",
       "</style>\n",
       "<table border=\"1\" class=\"dataframe\">\n",
       "  <thead>\n",
       "    <tr style=\"text-align: right;\">\n",
       "      <th></th>\n",
       "      <th>id</th>\n",
       "      <th>id.1</th>\n",
       "      <th>pred_class</th>\n",
       "      <th>user_favorite</th>\n",
       "      <th>title</th>\n",
       "    </tr>\n",
       "  </thead>\n",
       "  <tbody>\n",
       "    <tr>\n",
       "      <th>0</th>\n",
       "      <td>18322229</td>\n",
       "      <td>29661868</td>\n",
       "      <td>News and Politics</td>\n",
       "      <td>0-_-0</td>\n",
       "      <td>promise of analog ai feeds neural net hardware...</td>\n",
       "    </tr>\n",
       "    <tr>\n",
       "      <th>1</th>\n",
       "      <td>29978099</td>\n",
       "      <td>27894903</td>\n",
       "      <td>Lifestyle</td>\n",
       "      <td>0-_-0</td>\n",
       "      <td>show hn : writtenrealms – a modern platform fo...</td>\n",
       "    </tr>\n",
       "    <tr>\n",
       "      <th>2</th>\n",
       "      <td>16534781</td>\n",
       "      <td>27559017</td>\n",
       "      <td>News and Politics</td>\n",
       "      <td>0-_-0</td>\n",
       "      <td>advancing ai theory with first-principles unde...</td>\n",
       "    </tr>\n",
       "    <tr>\n",
       "      <th>3</th>\n",
       "      <td>26271851</td>\n",
       "      <td>26767441</td>\n",
       "      <td>Technology</td>\n",
       "      <td>0-_-0</td>\n",
       "      <td>a common mistake when numpy’s rng with pytorch</td>\n",
       "    </tr>\n",
       "    <tr>\n",
       "      <th>4</th>\n",
       "      <td>22151396</td>\n",
       "      <td>26371052</td>\n",
       "      <td>Culture and Arts</td>\n",
       "      <td>0-_-0</td>\n",
       "      <td>problems with eric weinstein ' s “geometric un...</td>\n",
       "    </tr>\n",
       "  </tbody>\n",
       "</table>\n",
       "</div>"
      ],
      "text/plain": [
       "         id      id.1         pred_class user_favorite  \\\n",
       "0  18322229  29661868  News and Politics         0-_-0   \n",
       "1  29978099  27894903          Lifestyle         0-_-0   \n",
       "2  16534781  27559017  News and Politics         0-_-0   \n",
       "3  26271851  26767441         Technology         0-_-0   \n",
       "4  22151396  26371052   Culture and Arts         0-_-0   \n",
       "\n",
       "                                               title  \n",
       "0  promise of analog ai feeds neural net hardware...  \n",
       "1  show hn : writtenrealms – a modern platform fo...  \n",
       "2  advancing ai theory with first-principles unde...  \n",
       "3     a common mistake when numpy’s rng with pytorch  \n",
       "4  problems with eric weinstein ' s “geometric un...  "
      ]
     },
     "execution_count": 8,
     "metadata": {},
     "output_type": "execute_result"
    }
   ],
   "source": [
    "df.head()"
   ]
  },
  {
   "cell_type": "code",
   "execution_count": null,
   "id": "5be05430-2d68-406a-acab-3699d66d69b8",
   "metadata": {},
   "outputs": [],
   "source": []
  },
  {
   "cell_type": "code",
   "execution_count": 9,
   "id": "f7ef6357-e3f7-481c-a98d-21ccecd3d1e3",
   "metadata": {},
   "outputs": [],
   "source": [
    "df = df.drop(['id', 'id.1'], axis=1)"
   ]
  },
  {
   "cell_type": "code",
   "execution_count": 10,
   "id": "0f87f98c-e775-49f2-9374-3b5216c8cf7c",
   "metadata": {},
   "outputs": [],
   "source": [
    "user_dist = (df\n",
    "             .groupby('user_favorite')['pred_class']\n",
    "             .value_counts(normalize=True)\n",
    "             .reset_index(name='dist')\n",
    "             .pivot(index='user_favorite', columns='pred_class', values='dist')\n",
    "             .fillna(0.)\n",
    "            )"
   ]
  },
  {
   "cell_type": "code",
   "execution_count": 11,
   "id": "874d4b94-f691-44f0-933d-5e47e72aa3ce",
   "metadata": {},
   "outputs": [],
   "source": [
    "with open('../data/user_topic_dist.json', 'w') as fp:\n",
    "    json.dump(user_dist.T.to_dict(), fp)"
   ]
  },
  {
   "cell_type": "code",
   "execution_count": 12,
   "id": "40da7d0d-7169-4062-8fcc-305785db1809",
   "metadata": {},
   "outputs": [],
   "source": [
    "least_fav = pd.melt(\n",
    "    user_dist.reset_index(),\n",
    "    id_vars=['user_favorite'],\n",
    "    value_vars=['Business', 'Culture and Arts', 'Education', 'Entertainment', 'Lifestyle', 'News and Politics', 'Sports', 'Technology']\n",
    ")\n",
    "least_fav = least_fav.sort_values(by='value', ascending=False)"
   ]
  },
  {
   "cell_type": "code",
   "execution_count": 13,
   "id": "c7ce62a7-9fec-445e-8aa3-ad5c61e75d0c",
   "metadata": {},
   "outputs": [],
   "source": [
    "least_fav = least_fav.groupby('user_favorite')['pred_class'].apply(list).apply(lambda x: x[-least_fav_topic_count:])"
   ]
  },
  {
   "cell_type": "code",
   "execution_count": 14,
   "id": "d860cbd6-82c0-4bde-bd81-f38a396e1764",
   "metadata": {},
   "outputs": [],
   "source": [
    "with open('../data/user_least_fav.json', 'w') as fp:\n",
    "    json.dump(least_fav.to_dict(), fp)"
   ]
  },
  {
   "cell_type": "code",
   "execution_count": 15,
   "id": "c50daf0c-0584-4c59-b810-c6a81f2be2cd",
   "metadata": {},
   "outputs": [
    {
     "data": {
      "text/html": [
       "<div>\n",
       "<style scoped>\n",
       "    .dataframe tbody tr th:only-of-type {\n",
       "        vertical-align: middle;\n",
       "    }\n",
       "\n",
       "    .dataframe tbody tr th {\n",
       "        vertical-align: top;\n",
       "    }\n",
       "\n",
       "    .dataframe thead th {\n",
       "        text-align: right;\n",
       "    }\n",
       "</style>\n",
       "<table border=\"1\" class=\"dataframe\">\n",
       "  <thead>\n",
       "    <tr style=\"text-align: right;\">\n",
       "      <th></th>\n",
       "      <th>pred_class</th>\n",
       "      <th>user_favorite</th>\n",
       "      <th>title</th>\n",
       "    </tr>\n",
       "  </thead>\n",
       "  <tbody>\n",
       "    <tr>\n",
       "      <th>0</th>\n",
       "      <td>News and Politics</td>\n",
       "      <td>0-_-0</td>\n",
       "      <td>promise of analog ai feeds neural net hardware...</td>\n",
       "    </tr>\n",
       "    <tr>\n",
       "      <th>1</th>\n",
       "      <td>Lifestyle</td>\n",
       "      <td>0-_-0</td>\n",
       "      <td>show hn : writtenrealms – a modern platform fo...</td>\n",
       "    </tr>\n",
       "    <tr>\n",
       "      <th>2</th>\n",
       "      <td>News and Politics</td>\n",
       "      <td>0-_-0</td>\n",
       "      <td>advancing ai theory with first-principles unde...</td>\n",
       "    </tr>\n",
       "    <tr>\n",
       "      <th>3</th>\n",
       "      <td>Technology</td>\n",
       "      <td>0-_-0</td>\n",
       "      <td>a common mistake when numpy’s rng with pytorch</td>\n",
       "    </tr>\n",
       "    <tr>\n",
       "      <th>4</th>\n",
       "      <td>Culture and Arts</td>\n",
       "      <td>0-_-0</td>\n",
       "      <td>problems with eric weinstein ' s “geometric un...</td>\n",
       "    </tr>\n",
       "  </tbody>\n",
       "</table>\n",
       "</div>"
      ],
      "text/plain": [
       "          pred_class user_favorite  \\\n",
       "0  News and Politics         0-_-0   \n",
       "1          Lifestyle         0-_-0   \n",
       "2  News and Politics         0-_-0   \n",
       "3         Technology         0-_-0   \n",
       "4   Culture and Arts         0-_-0   \n",
       "\n",
       "                                               title  \n",
       "0  promise of analog ai feeds neural net hardware...  \n",
       "1  show hn : writtenrealms – a modern platform fo...  \n",
       "2  advancing ai theory with first-principles unde...  \n",
       "3     a common mistake when numpy’s rng with pytorch  \n",
       "4  problems with eric weinstein ' s “geometric un...  "
      ]
     },
     "execution_count": 15,
     "metadata": {},
     "output_type": "execute_result"
    }
   ],
   "source": [
    "df.head()"
   ]
  },
  {
   "cell_type": "markdown",
   "id": "0f4d64dd-e2d4-4a98-bbe9-600e8ed3e23d",
   "metadata": {},
   "source": [
    "### sampling"
   ]
  },
  {
   "cell_type": "code",
   "execution_count": 16,
   "id": "8ecd3230-ed76-4eab-8f5c-d8847d92514d",
   "metadata": {},
   "outputs": [
    {
     "data": {
      "application/vnd.jupyter.widget-view+json": {
       "model_id": "dd655e912d084ac38f7fe3675af85c14",
       "version_major": 2,
       "version_minor": 0
      },
      "text/plain": [
       "  0%|          | 0/89144 [00:00<?, ?it/s]"
      ]
     },
     "metadata": {},
     "output_type": "display_data"
    }
   ],
   "source": [
    "user_titles = df.groupby('user_favorite')['title'].apply(list).reset_index()\n",
    "final_data = []\n",
    "\n",
    "for i, row in tqdm(user_titles.head(200).iterrows(), total=user_titles.shape[0]):\n",
    "    pairs = []\n",
    "    user = row['user_favorite']\n",
    "    titles = row['title']\n",
    "    user_least_fav = least_fav[user]\n",
    "    \n",
    "    \n",
    "    lfav_titles = df.loc[(df['user_favorite'] != user) & (df['pred_class'].isin(user_least_fav)), 'title'].sample(frac=1.)\n",
    "    lfav_titles_len = lfav_titles.shape[0]\n",
    "    \n",
    "    if lfav_titles_len < negative_sampling_ratio:\n",
    "        continue\n",
    "    \n",
    "    for title_i, title in enumerate(titles):\n",
    "        pair = [[title]]\n",
    "        title_is = title_i % lfav_titles_len\n",
    "        title_ie = title_is + negative_sampling_ratio\n",
    "        browsed_news = titles[:title_i] + titles[title_i+1:]\n",
    "        browsed_news = random.sample(browsed_news, len(browsed_news))\n",
    "        \n",
    "        pair[0].extend(lfav_titles.iloc[title_is:title_ie].tolist())\n",
    "        pair.append(browsed_news)\n",
    "        pairs.append(pair)\n",
    "        \n",
    "    final_data.append({'user': user, 'candidate_news': pairs})"
   ]
  },
  {
   "cell_type": "code",
   "execution_count": 17,
   "id": "1e6ad1e3-68d4-462d-bbaa-329bd73dbbba",
   "metadata": {},
   "outputs": [],
   "source": [
    "final_data = pd.DataFrame(final_data).explode('candidate_news')"
   ]
  },
  {
   "cell_type": "code",
   "execution_count": 18,
   "id": "7204bb0f-245f-46f2-b1f2-b7f5951e6fb7",
   "metadata": {},
   "outputs": [],
   "source": [
    "final_data['browsed_news'] = final_data['candidate_news'].apply(lambda x: x[1])\n",
    "final_data['candidate_news'] = final_data['candidate_news'].apply(lambda x: x[0])"
   ]
  },
  {
   "cell_type": "code",
   "execution_count": 19,
   "id": "e1833d71-d26d-42e1-83ef-4b3287a5f480",
   "metadata": {},
   "outputs": [],
   "source": [
    "final_data.to_csv('../data/prepared_data.csv', header=True, index=False)"
   ]
  },
  {
   "cell_type": "code",
   "execution_count": 74,
   "id": "1c63515f-a391-443b-b815-2ee7d3376639",
   "metadata": {},
   "outputs": [],
   "source": [
    "final_data = pd.read_csv('../data/prepared_data.csv')\n",
    "final_data['candidate_news'] = final_data['candidate_news'].apply(ast.literal_eval)\n",
    "final_data['browsed_news'] = final_data['browsed_news'].apply(ast.literal_eval)"
   ]
  },
  {
   "cell_type": "markdown",
   "id": "5b3d0a6e-20bc-4c55-bed8-59aa7ba87c57",
   "metadata": {},
   "source": [
    "### word2vec"
   ]
  },
  {
   "cell_type": "code",
   "execution_count": 75,
   "id": "315e702e-44c9-4697-a382-86785feb59cb",
   "metadata": {},
   "outputs": [],
   "source": [
    "word_freq = defaultdict(int)\n",
    "word2int = {}\n",
    "\n",
    "for titles in final_data['candidate_news']:\n",
    "    for title in titles:\n",
    "        for word in title.split():\n",
    "            word_freq[word] += 1\n",
    "\n",
    "for word in word_freq:\n",
    "    if word_freq[word] >= min_word_freq:\n",
    "        word2int[word] = len(word2int) + 1"
   ]
  },
  {
   "cell_type": "code",
   "execution_count": 76,
   "id": "bb796825-eb86-4686-916b-0e4b941165db",
   "metadata": {},
   "outputs": [],
   "source": [
    "glove_path = '../data/glove.6B.300d.txt'"
   ]
  },
  {
   "cell_type": "code",
   "execution_count": 77,
   "id": "500e41bc-7773-46dc-be75-5cec7028ee32",
   "metadata": {},
   "outputs": [],
   "source": [
    "source_embedding = pd.read_table(glove_path, index_col=0, sep=' ', header=None, quoting=csv.QUOTE_NONE, names=range(embedding_size))\n",
    "source_embedding = source_embedding.reset_index()\n",
    "source_embedding.columns = ['word'] + list(range(embedding_size))"
   ]
  },
  {
   "cell_type": "code",
   "execution_count": 78,
   "id": "9501503e-1e0d-4ae7-b14b-3a82ecf3d839",
   "metadata": {},
   "outputs": [],
   "source": [
    "word2int = pd.DataFrame(word2int.items(), columns=['word', 'index'])"
   ]
  },
  {
   "cell_type": "code",
   "execution_count": 79,
   "id": "e88613ec-69c4-4c25-a230-a953f237873e",
   "metadata": {},
   "outputs": [
    {
     "data": {
      "text/plain": [
       "(11944, 302)"
      ]
     },
     "execution_count": 79,
     "metadata": {},
     "output_type": "execute_result"
    }
   ],
   "source": [
    "final_embeddings = word2int.merge(source_embedding, how='left', on='word')\n",
    "final_embeddings.shape"
   ]
  },
  {
   "cell_type": "code",
   "execution_count": 80,
   "id": "c0325811-443a-4b53-8085-bc1bdb81f089",
   "metadata": {},
   "outputs": [
    {
     "data": {
      "text/plain": [
       "(11944, 302)"
      ]
     },
     "execution_count": 80,
     "metadata": {},
     "output_type": "execute_result"
    }
   ],
   "source": [
    "orig_missed_embeddings = final_embeddings.loc[final_embeddings[0].isnull(), ['word', 'index']]\n",
    "final_embeddings = final_embeddings.loc[~final_embeddings[0].isnull()]\n",
    "\n",
    "missed_embeddings = pd.DataFrame(\n",
    "    data=np.random.normal(size=(len(orig_missed_embeddings), embedding_size)),\n",
    "    index=orig_missed_embeddings['word']\n",
    ").reset_index()\n",
    "missed_embeddings = missed_embeddings.merge(orig_missed_embeddings, how='left', on='word')\n",
    "\n",
    "final_embeddings = pd.concat([final_embeddings, missed_embeddings])\n",
    "final_embeddings.shape"
   ]
  },
  {
   "cell_type": "code",
   "execution_count": 81,
   "id": "bb4e97aa-f381-476b-827f-9d9839d11517",
   "metadata": {},
   "outputs": [],
   "source": [
    "final_embeddings = final_embeddings.drop('word', axis=1)"
   ]
  },
  {
   "cell_type": "code",
   "execution_count": 82,
   "id": "e3088c53-da8e-4224-b105-ba7cc9e692f1",
   "metadata": {},
   "outputs": [
    {
     "data": {
      "text/plain": [
       "(11944, 300)"
      ]
     },
     "execution_count": 82,
     "metadata": {},
     "output_type": "execute_result"
    }
   ],
   "source": [
    "final_embeddings = final_embeddings.sort_values(by='index').drop('index', axis=1).values\n",
    "final_embeddings.shape"
   ]
  },
  {
   "cell_type": "code",
   "execution_count": null,
   "id": "e97cb3bb-f754-41c7-a044-4d03c7e5ffd0",
   "metadata": {},
   "outputs": [],
   "source": []
  },
  {
   "cell_type": "code",
   "execution_count": null,
   "id": "5a0e2dfd-8a5b-4f77-9ed8-2a06c46fe6d2",
   "metadata": {},
   "outputs": [],
   "source": []
  },
  {
   "cell_type": "code",
   "execution_count": 83,
   "id": "13edd5fc-7018-4067-bd0b-5f65beda7548",
   "metadata": {},
   "outputs": [],
   "source": [
    "np.save('../data/final_embeddings.npy', final_embeddings)\n",
    "\n",
    "word2int = word2int.set_index('word')['index'].to_dict()\n",
    "with open('../data/word2int.json', 'w') as fp:\n",
    "    json.dump(word2int, fp)"
   ]
  },
  {
   "cell_type": "markdown",
   "id": "b2fdc798-f98b-4124-bd52-7679b1e5a9d7",
   "metadata": {},
   "source": [
    "### tokenize titles"
   ]
  },
  {
   "cell_type": "code",
   "execution_count": 84,
   "id": "a3162fab-683d-40d1-b4f1-a23ac67bbab0",
   "metadata": {},
   "outputs": [],
   "source": [
    "def tokenize(text, word2int):\n",
    "    res = []\n",
    "    for word in text.split():\n",
    "        if word in word2int:\n",
    "            res.append(word2int[word])\n",
    "    return res"
   ]
  },
  {
   "cell_type": "code",
   "execution_count": 85,
   "id": "efdb610a-c537-4f05-a0ec-a09d2035cc4a",
   "metadata": {},
   "outputs": [],
   "source": [
    "final_data['candidate_news'] = final_data['candidate_news'].apply(lambda x: [tokenize(word, word2int) for word in x])\n",
    "final_data['browsed_news'] = final_data['browsed_news'].apply(lambda x: [tokenize(word, word2int) for word in x])"
   ]
  },
  {
   "cell_type": "code",
   "execution_count": 86,
   "id": "7d898079-b567-405f-b7d4-1dd540c579e1",
   "metadata": {},
   "outputs": [
    {
     "data": {
      "text/html": [
       "<div>\n",
       "<style scoped>\n",
       "    .dataframe tbody tr th:only-of-type {\n",
       "        vertical-align: middle;\n",
       "    }\n",
       "\n",
       "    .dataframe tbody tr th {\n",
       "        vertical-align: top;\n",
       "    }\n",
       "\n",
       "    .dataframe thead th {\n",
       "        text-align: right;\n",
       "    }\n",
       "</style>\n",
       "<table border=\"1\" class=\"dataframe\">\n",
       "  <thead>\n",
       "    <tr style=\"text-align: right;\">\n",
       "      <th></th>\n",
       "      <th>user</th>\n",
       "      <th>candidate_news</th>\n",
       "      <th>browsed_news</th>\n",
       "    </tr>\n",
       "  </thead>\n",
       "  <tbody>\n",
       "    <tr>\n",
       "      <th>0</th>\n",
       "      <td>0-_-0</td>\n",
       "      <td>[[1, 2, 3, 4, 5, 6, 7, 8, 9], [10, 11, 12, 13,...</td>\n",
       "      <td>[[52, 75, 76, 77, 78, 79, 37, 80], [151, 152, ...</td>\n",
       "    </tr>\n",
       "    <tr>\n",
       "      <th>1</th>\n",
       "      <td>0-_-0</td>\n",
       "      <td>[[49, 33, 14, 50, 51, 52, 53, 54, 55, 56, 57],...</td>\n",
       "      <td>[[239, 240, 241, 242, 2, 243, 28, 29, 12, 244,...</td>\n",
       "    </tr>\n",
       "    <tr>\n",
       "      <th>2</th>\n",
       "      <td>0-_-0</td>\n",
       "      <td>[[63, 4, 64, 37, 65, 66, 2, 67, 6, 68], [22, 2...</td>\n",
       "      <td>[[94, 123, 124, 215, 216], [49, 33, 14, 6, 134...</td>\n",
       "    </tr>\n",
       "    <tr>\n",
       "      <th>3</th>\n",
       "      <td>0-_-0</td>\n",
       "      <td>[[52, 75, 76, 77, 78, 79, 37, 80], [32, 33, 14...</td>\n",
       "      <td>[[32, 33, 14, 34, 127, 19, 115, 250, 251, 55, ...</td>\n",
       "    </tr>\n",
       "    <tr>\n",
       "      <th>4</th>\n",
       "      <td>0-_-0</td>\n",
       "      <td>[[84, 37, 85, 86, 87, 88, 89, 90], [32, 33, 14...</td>\n",
       "      <td>[[49, 33, 14, 50, 51, 52, 53, 54, 55, 56, 57],...</td>\n",
       "    </tr>\n",
       "  </tbody>\n",
       "</table>\n",
       "</div>"
      ],
      "text/plain": [
       "    user                                     candidate_news  \\\n",
       "0  0-_-0  [[1, 2, 3, 4, 5, 6, 7, 8, 9], [10, 11, 12, 13,...   \n",
       "1  0-_-0  [[49, 33, 14, 50, 51, 52, 53, 54, 55, 56, 57],...   \n",
       "2  0-_-0  [[63, 4, 64, 37, 65, 66, 2, 67, 6, 68], [22, 2...   \n",
       "3  0-_-0  [[52, 75, 76, 77, 78, 79, 37, 80], [32, 33, 14...   \n",
       "4  0-_-0  [[84, 37, 85, 86, 87, 88, 89, 90], [32, 33, 14...   \n",
       "\n",
       "                                        browsed_news  \n",
       "0  [[52, 75, 76, 77, 78, 79, 37, 80], [151, 152, ...  \n",
       "1  [[239, 240, 241, 242, 2, 243, 28, 29, 12, 244,...  \n",
       "2  [[94, 123, 124, 215, 216], [49, 33, 14, 6, 134...  \n",
       "3  [[32, 33, 14, 34, 127, 19, 115, 250, 251, 55, ...  \n",
       "4  [[49, 33, 14, 50, 51, 52, 53, 54, 55, 56, 57],...  "
      ]
     },
     "execution_count": 86,
     "metadata": {},
     "output_type": "execute_result"
    }
   ],
   "source": [
    "final_data.head()"
   ]
  },
  {
   "cell_type": "code",
   "execution_count": 87,
   "id": "9fd7ffa2-65df-4506-804e-8e6c65a607c1",
   "metadata": {},
   "outputs": [],
   "source": [
    "final_data['tokenized_vectors'] = final_data[['candidate_news', 'browsed_news']].apply(lambda x: [x[0], x[1]], axis=1)"
   ]
  },
  {
   "cell_type": "code",
   "execution_count": 91,
   "id": "9c595d4b-21db-4ad5-9907-942913c1eb3a",
   "metadata": {},
   "outputs": [],
   "source": [
    "final_data = final_data[['user', 'tokenized_vectors']]"
   ]
  },
  {
   "cell_type": "code",
   "execution_count": 92,
   "id": "1c310bde-0e68-4b7e-8342-aabac161f58b",
   "metadata": {},
   "outputs": [],
   "source": [
    "final_data = final_data.set_index('user')['tokenized_vectors'].to_dict()\n",
    "with open('../data/tokenized_vectors.json', 'w') as fp:\n",
    "    json.dump(final_data, fp)"
   ]
  },
  {
   "cell_type": "code",
   "execution_count": null,
   "id": "a1acb42a-a6e9-4521-b3ec-44a7df960f61",
   "metadata": {},
   "outputs": [],
   "source": []
  },
  {
   "cell_type": "code",
   "execution_count": null,
   "id": "e0ba3ed5-1626-4ca7-9a08-61594b1abf97",
   "metadata": {},
   "outputs": [],
   "source": []
  },
  {
   "cell_type": "code",
   "execution_count": 69,
   "id": "ee2384b8-a988-4dbc-835e-65900195addb",
   "metadata": {},
   "outputs": [],
   "source": [
    "final_data.to_csv('../data/tokenized_vectors.csv', header=True, index=False)"
   ]
  },
  {
   "cell_type": "code",
   "execution_count": 70,
   "id": "4df5db68-bfde-4766-b7bf-20f764b52283",
   "metadata": {},
   "outputs": [],
   "source": [
    "final_data = pd.read_csv('../data/prepared_data_tokenized.csv')"
   ]
  },
  {
   "cell_type": "code",
   "execution_count": 73,
   "id": "c3ae3450-a4ab-4c54-8d3e-8c2f35092710",
   "metadata": {},
   "outputs": [
    {
     "data": {
      "text/plain": [
       "'[[1, 2, 3, 4, 5, 6, 7, 8, 9], [10, 11, 12, 13, 13, 14, 15, 16, 17, 18], [19, 20, 20, 21], [22, 23, 24, 25, 26, 27, 28, 29, 12, 30, 31], [32, 33, 14, 34, 35, 36, 35, 37, 38, 39, 40, 41], [32, 33, 14, 42, 16, 43, 44, 45, 46, 16, 47, 48, 41]]'"
      ]
     },
     "execution_count": 73,
     "metadata": {},
     "output_type": "execute_result"
    }
   ],
   "source": [
    "final_data.head()['candidate_news'][0]"
   ]
  },
  {
   "cell_type": "code",
   "execution_count": 8,
   "id": "770dc994-cf33-452e-b9f0-a7a7a8f1c3c2",
   "metadata": {},
   "outputs": [
    {
     "data": {
      "text/plain": [
       "'[[1], [2], [3], [4], [5], [6], [7], [8], [9], [], [5], [10], [], [11], [12], [11], [13], [5], [14], [], [11], [7], [], [10], [9], [9], [15], [8], [], [12], [9], [16], [4], [11], [13], [], [12], [9], [17], [], [18], [11], [4], [15], [19], [11], [4], [9], [], [3], [7], [3], [9], [13], [7], [12], [9], [2], [20], [], [2], [8], [17], [11], [12], [10], [5], [4], [15], [], [21], [8], [], [22], [], [23], [], [23], [], [24], [], [7], [12], [17], [4], [5], [15], [16], [21], [17], [7], [5], [12], [], [17], [5], [], [21], [5], [6], [3], [16], [17], [9], [4], [], [12], [9], [17], [19], [5], [4], [25], [7], [12], [14], [2], [20], [], [2], [17], [18], [9], [], [3], [4], [11], [14], [6], [11], [17], [7], [21], [], [3], [4], [11], [14], [6], [11], [17], [7], [21], [], [3], [4], [5], [14], [4], [11], [6], [6], [9], [4], [2], [20], [], [2], [9], [26], [9], [8], [], [18], [7], [12], [17], [], [11], [17], [], [18], [7], [15], [15], [9], [12], [], [6], [9], [12], [17], [11], [13], [27], [18], [9], [11], [13], [17], [18], [], [21], [5], [12], [15], [7], [17], [7], [5], [12], [8], [], [28], [29], [], [30], [], [22], [], [31], [], [32], [2], [20], [], [2], [11], [8], [25], [], [18], [12], [], [24], [], [19], [18], [11], [17], [], [15], [5], [], [26], [5], [16], [], [15], [5], [], [19], [7], [17], [18], [], [26], [5], [16], [4], [], [4], [11], [8], [3], [33], [9], [4], [4], [26], [], [3], [7], [], [34], [2], [20], [], [2], [11], [8], [25], [], [18], [12], [], [24], [], [18], [5], [19], [], [17], [5], [], [17], [4], [11], [12], [8], [7], [17], [7], [5], [12], [], [10], [4], [5], [6], [], [11], [21], [11], [15], [9], [6], [7], [21], [], [3], [4], [5], [14], [4], [11], [6], [6], [7], [12], [14], [], [17], [5], [], [8], [5], [10], [17], [19], [11], [4], [9], [], [9], [12], [14], [7], [12], [9], [9], [4], [7], [12], [14], [], [34], [2], [35]]'"
      ]
     },
     "execution_count": 8,
     "metadata": {},
     "output_type": "execute_result"
    }
   ],
   "source": [
    "final_data.iloc[0]['candidate_news']"
   ]
  },
  {
   "cell_type": "code",
   "execution_count": 5,
   "id": "e2c747d7-cd57-4e53-a3c5-4466252194c6",
   "metadata": {},
   "outputs": [
    {
     "data": {
      "text/html": [
       "<div>\n",
       "<style scoped>\n",
       "    .dataframe tbody tr th:only-of-type {\n",
       "        vertical-align: middle;\n",
       "    }\n",
       "\n",
       "    .dataframe tbody tr th {\n",
       "        vertical-align: top;\n",
       "    }\n",
       "\n",
       "    .dataframe thead th {\n",
       "        text-align: right;\n",
       "    }\n",
       "</style>\n",
       "<table border=\"1\" class=\"dataframe\">\n",
       "  <thead>\n",
       "    <tr style=\"text-align: right;\">\n",
       "      <th></th>\n",
       "      <th>user</th>\n",
       "      <th>candidate_news</th>\n",
       "      <th>browsed_news</th>\n",
       "    </tr>\n",
       "  </thead>\n",
       "  <tbody>\n",
       "    <tr>\n",
       "      <th>0</th>\n",
       "      <td>0-_-0</td>\n",
       "      <td>[[1], [2], [3], [4], [5], [6], [7], [8], [9], ...</td>\n",
       "      <td>[[1], [2], [11], [], [21], [5], [6], [6], [5],...</td>\n",
       "    </tr>\n",
       "    <tr>\n",
       "      <th>1</th>\n",
       "      <td>0-_-0</td>\n",
       "      <td>[[1], [2], [8], [18], [5], [19], [], [18], [12...</td>\n",
       "      <td>[[1], [2], [13], [9], [37], [7], [21], [11], [...</td>\n",
       "    </tr>\n",
       "    <tr>\n",
       "      <th>2</th>\n",
       "      <td>0-_-0</td>\n",
       "      <td>[[1], [2], [11], [15], [38], [11], [12], [21],...</td>\n",
       "      <td>[[1], [2], [15], [11], [17], [11], [], [8], [2...</td>\n",
       "    </tr>\n",
       "    <tr>\n",
       "      <th>3</th>\n",
       "      <td>0-_-0</td>\n",
       "      <td>[[1], [2], [11], [], [21], [5], [6], [6], [5],...</td>\n",
       "      <td>[[1], [2], [11], [8], [25], [], [18], [12], []...</td>\n",
       "    </tr>\n",
       "    <tr>\n",
       "      <th>4</th>\n",
       "      <td>0-_-0</td>\n",
       "      <td>[[1], [40], [3], [4], [5], [33], [13], [9], [6...</td>\n",
       "      <td>[[1], [2], [8], [18], [5], [19], [], [18], [12...</td>\n",
       "    </tr>\n",
       "  </tbody>\n",
       "</table>\n",
       "</div>"
      ],
      "text/plain": [
       "    user                                     candidate_news  \\\n",
       "0  0-_-0  [[1], [2], [3], [4], [5], [6], [7], [8], [9], ...   \n",
       "1  0-_-0  [[1], [2], [8], [18], [5], [19], [], [18], [12...   \n",
       "2  0-_-0  [[1], [2], [11], [15], [38], [11], [12], [21],...   \n",
       "3  0-_-0  [[1], [2], [11], [], [21], [5], [6], [6], [5],...   \n",
       "4  0-_-0  [[1], [40], [3], [4], [5], [33], [13], [9], [6...   \n",
       "\n",
       "                                        browsed_news  \n",
       "0  [[1], [2], [11], [], [21], [5], [6], [6], [5],...  \n",
       "1  [[1], [2], [13], [9], [37], [7], [21], [11], [...  \n",
       "2  [[1], [2], [15], [11], [17], [11], [], [8], [2...  \n",
       "3  [[1], [2], [11], [8], [25], [], [18], [12], []...  \n",
       "4  [[1], [2], [8], [18], [5], [19], [], [18], [12...  "
      ]
     },
     "execution_count": 5,
     "metadata": {},
     "output_type": "execute_result"
    }
   ],
   "source": [
    "final_data.ilo"
   ]
  },
  {
   "cell_type": "code",
   "execution_count": null,
   "id": "9ca9ccf0-7d4e-465a-ba67-4bd72463faed",
   "metadata": {},
   "outputs": [],
   "source": []
  },
  {
   "cell_type": "code",
   "execution_count": null,
   "id": "1238572f-e197-4bcf-9763-d5a1bbefb9be",
   "metadata": {},
   "outputs": [],
   "source": []
  }
 ],
 "metadata": {
  "kernelspec": {
   "display_name": "Python 3 (ipykernel)",
   "language": "python",
   "name": "python3"
  },
  "language_info": {
   "codemirror_mode": {
    "name": "ipython",
    "version": 3
   },
   "file_extension": ".py",
   "mimetype": "text/x-python",
   "name": "python",
   "nbconvert_exporter": "python",
   "pygments_lexer": "ipython3",
   "version": "3.9.12"
  }
 },
 "nbformat": 4,
 "nbformat_minor": 5
}
